{
 "cells": [
  {
   "cell_type": "markdown",
   "id": "443f6cf4",
   "metadata": {},
   "source": [
    "Libraries"
   ]
  },
  {
   "cell_type": "code",
   "execution_count": 3,
   "id": "4fcc3432",
   "metadata": {},
   "outputs": [],
   "source": [
    "from qiskit_ibm_runtime import SamplerV2, EstimatorV2, QiskitRuntimeService\n",
    "from qiskit.transpiler.preset_passmanagers import generate_preset_pass_manager"
   ]
  },
  {
   "cell_type": "markdown",
   "id": "1b902b82",
   "metadata": {},
   "source": [
    "IBM service log in"
   ]
  },
  {
   "cell_type": "code",
   "execution_count": 4,
   "id": "3f7e7465",
   "metadata": {},
   "outputs": [],
   "source": [
    "runtime_service_Jiri = QiskitRuntimeService(\n",
    "    channel='ibm_quantum',\n",
    "    instance='cvut/general/simulphys',\n",
    "    token='63c4bc4d05bc301d88a79333e99f7595c30542815998fbc4c0b3e2b12f3d251bf80f29fa43b35fe7fbf9d49816eed489b9f1e36aed117185400098f6b19b93b9'\n",
    ")\n",
    "\n",
    "backend = runtime_service_Jiri.backend('ibm_aachen')\n",
    "pm = generate_preset_pass_manager(optimization_level=3, backend=backend)"
   ]
  },
  {
   "cell_type": "code",
   "execution_count": null,
   "id": "c35b7d85",
   "metadata": {},
   "outputs": [],
   "source": []
  }
 ],
 "metadata": {
  "kernelspec": {
   "display_name": "test_venv",
   "language": "python",
   "name": "python3"
  },
  "language_info": {
   "codemirror_mode": {
    "name": "ipython",
    "version": 3
   },
   "file_extension": ".py",
   "mimetype": "text/x-python",
   "name": "python",
   "nbconvert_exporter": "python",
   "pygments_lexer": "ipython3",
   "version": "3.11.6"
  }
 },
 "nbformat": 4,
 "nbformat_minor": 5
}
