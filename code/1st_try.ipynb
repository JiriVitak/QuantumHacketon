{
 "cells": [
  {
   "cell_type": "code",
   "execution_count": 81,
   "id": "7e76e583",
   "metadata": {},
   "outputs": [],
   "source": [
    "import qiskit\n",
    "import numpy as np\n",
    "from qiskit.quantum_info import Statevector\n",
    "from qiskit import QuantumCircuit\n",
    "from qiskit.circuit.library import UnitaryGate"
   ]
  },
  {
   "cell_type": "markdown",
   "id": "75f34401",
   "metadata": {},
   "source": [
    "Define state and according evolution operator from |0>^(N)"
   ]
  },
  {
   "cell_type": "code",
   "execution_count": 82,
   "id": "6a4985d6",
   "metadata": {},
   "outputs": [
    {
     "name": "stdout",
     "output_type": "stream",
     "text": [
      "[[ 0.7071  0.      0.      0.      0.      0.      0.      0.7071]\n",
      " [ 0.      1.      0.      0.      0.      0.      0.      0.    ]\n",
      " [ 0.      0.      1.      0.      0.      0.      0.      0.    ]\n",
      " [ 0.      0.      0.      1.      0.      0.      0.      0.    ]\n",
      " [ 0.      0.      0.      0.      1.      0.      0.      0.    ]\n",
      " [ 0.      0.      0.      0.      0.      1.      0.      0.    ]\n",
      " [ 0.      0.      0.      0.      0.      0.      1.      0.    ]\n",
      " [ 0.7071  0.      0.      0.      0.      0.      0.     -0.7071]]\n"
     ]
    }
   ],
   "source": [
    "def householder_unitary(psi: np.ndarray) -> np.ndarray:\n",
    "    \"\"\"\n",
    "    Construct a real unitary matrix U such that U @ |0> = psi.\n",
    "\n",
    "    Parameters:\n",
    "        psi (np.ndarray): Real normalized state vector.\n",
    "\n",
    "    Returns:\n",
    "        U (np.ndarray): Real unitary matrix.\n",
    "    \"\"\"\n",
    "    psi = psi.astype(np.float64)\n",
    "    psi = psi / np.linalg.norm(psi)\n",
    "\n",
    "    dim = len(psi)\n",
    "    e1 = np.zeros(dim)\n",
    "    e1[0] = 1.0\n",
    "\n",
    "    v = psi - e1\n",
    "    v = v / np.linalg.norm(v)\n",
    "\n",
    "    U = np.eye(dim) - 2.0 * np.outer(v, v)\n",
    "    return U\n",
    "\n",
    "def print_matrix(U: np.ndarray, precision: int = 4):\n",
    "    \"\"\"\n",
    "    Pretty-print a matrix with fixed precision.\n",
    "\n",
    "    Parameters:\n",
    "        U (np.ndarray): Matrix to print.\n",
    "        precision (int): Decimal digits.\n",
    "    \"\"\"\n",
    "    np.set_printoptions(precision=precision, suppress=True)\n",
    "    print(U)\n",
    "\n",
    "# Example probability distribution (must sum to 1)\n",
    "p = np.array([1, 0, 0, 0, 0, 0, 0, 1]) / np.sqrt(2)\n",
    "p /= np.sum(p)\n",
    "\n",
    "# Target quantum state\n",
    "psi = np.sqrt(p)\n",
    "\n",
    "# Generate unitary matrix\n",
    "U = householder_unitary(psi)\n",
    "\n",
    "# Print the result\n",
    "print_matrix(U)"
   ]
  },
  {
   "cell_type": "code",
   "execution_count": 83,
   "id": "d7985bce",
   "metadata": {},
   "outputs": [
    {
     "name": "stdout",
     "output_type": "stream",
     "text": [
      "[[ 0.7071  0.7071]\n",
      " [ 0.7071 -0.7071]]\n"
     ]
    }
   ],
   "source": [
    "GHZ = np.array([1, 0, 0, 0, 0, 0, 0, 1]) / np.sqrt(2)\n",
    "GHZ_evolve_matrix = householder_unitary(GHZ)\n",
    "\n",
    "zero_state = np.array([1, 1])\n",
    "zero_state_evolve_matrix = householder_unitary(zero_state)\n",
    "print(zero_state_evolve_matrix)"
   ]
  },
  {
   "cell_type": "markdown",
   "id": "98a7c5f5",
   "metadata": {},
   "source": [
    "Acording circuit creation"
   ]
  },
  {
   "cell_type": "code",
   "execution_count": 84,
   "id": "4b79e543",
   "metadata": {},
   "outputs": [],
   "source": [
    "def create_reference_circuit(matrix):\n",
    "    num_qubits = int(np.log2(len(matrix)))\n",
    "    print(f\"Number of qubits: {num_qubits}\")\n",
    "    gate = UnitaryGate(matrix)\n",
    "    print(f\"Gate: {gate}\")\n",
    "    qc = QuantumCircuit(num_qubits)\n",
    "    qc.append(gate, qc.qubits)\n",
    "\n",
    "    return qc\n"
   ]
  },
  {
   "cell_type": "code",
   "execution_count": 85,
   "id": "22a1a557",
   "metadata": {},
   "outputs": [
    {
     "name": "stdout",
     "output_type": "stream",
     "text": [
      "Number of qubits: 3\n",
      "Gate: Instruction(name='unitary', num_qubits=3, num_clbits=0, params=[array([[ 0.7071+0.j,  0.    +0.j,  0.    +0.j,  0.    +0.j,  0.    +0.j,\n",
      "         0.    +0.j,  0.    +0.j,  0.7071+0.j],\n",
      "       [ 0.    +0.j,  1.    +0.j,  0.    +0.j,  0.    +0.j,  0.    +0.j,\n",
      "         0.    +0.j,  0.    +0.j,  0.    +0.j],\n",
      "       [ 0.    +0.j,  0.    +0.j,  1.    +0.j,  0.    +0.j,  0.    +0.j,\n",
      "         0.    +0.j,  0.    +0.j,  0.    +0.j],\n",
      "       [ 0.    +0.j,  0.    +0.j,  0.    +0.j,  1.    +0.j,  0.    +0.j,\n",
      "         0.    +0.j,  0.    +0.j,  0.    +0.j],\n",
      "       [ 0.    +0.j,  0.    +0.j,  0.    +0.j,  0.    +0.j,  1.    +0.j,\n",
      "         0.    +0.j,  0.    +0.j,  0.    +0.j],\n",
      "       [ 0.    +0.j,  0.    +0.j,  0.    +0.j,  0.    +0.j,  0.    +0.j,\n",
      "         1.    +0.j,  0.    +0.j,  0.    +0.j],\n",
      "       [ 0.    +0.j,  0.    +0.j,  0.    +0.j,  0.    +0.j,  0.    +0.j,\n",
      "         0.    +0.j,  1.    +0.j,  0.    +0.j],\n",
      "       [ 0.7071+0.j,  0.    +0.j,  0.    +0.j,  0.    +0.j,  0.    +0.j,\n",
      "         0.    +0.j,  0.    +0.j, -0.7071+0.j]])])\n"
     ]
    },
    {
     "name": "stderr",
     "output_type": "stream",
     "text": [
      "c:\\Users\\jiriv\\Documents\\škola\\QPRGA\\Lib\\site-packages\\qiskit\\visualization\\circuit\\matplotlib.py:269: UserWarning: Style JSON file 'iqx.json' not found in any of these locations: c:\\Users\\jiriv\\Documents\\škola\\QPRGA\\Lib\\site-packages\\qiskit\\visualization\\circuit\\styles\\iqx.json, iqx.json. Will use default style.\n",
      "  self._style, def_font_ratio = load_style(self._style)\n"
     ]
    },
    {
     "data": {
      "image/png": "[encoded data removed]",
      "text/plain": [
       "<Figure size 1105.28x309.361 with 1 Axes>"
      ]
     },
     "execution_count": 85,
     "metadata": {},
     "output_type": "execute_result"
    }
   ],
   "source": [
    "qc_ghz = create_reference_circuit(GHZ_evolve_matrix)\n",
    "qc_ghz.decompose().draw('mpl', scale=0.5, style='iqx')"
   ]
  },
  {
   "cell_type": "markdown",
   "id": "29ae1937",
   "metadata": {},
   "source": [
    "Transpile"
   ]
  },
  {
   "cell_type": "markdown",
   "id": "e66a0364",
   "metadata": {},
   "source": [
    "Loss function"
   ]
  },
  {
   "cell_type": "code",
   "execution_count": null,
   "id": "2fad8640",
   "metadata": {},
   "outputs": [],
   "source": []
  }
 ],
 "metadata": {
  "kernelspec": {
   "display_name": "QPRGA",
   "language": "python",
   "name": "python3"
  },
  "language_info": {
   "codemirror_mode": {
    "name": "ipython",
    "version": 3
   },
   "file_extension": ".py",
   "mimetype": "text/x-python",
   "name": "python",
   "nbconvert_exporter": "python",
   "pygments_lexer": "ipython3",
   "version": "3.11.6"
  }
 },
 "nbformat": 4,
 "nbformat_minor": 5
}
