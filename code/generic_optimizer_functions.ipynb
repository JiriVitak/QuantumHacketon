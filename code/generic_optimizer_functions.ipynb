{
 "cells": [
  {
   "cell_type": "markdown",
   "id": "d02b8747",
   "metadata": {},
   "source": [
    "Previous notebooks"
   ]
  },
  {
   "cell_type": "code",
   "execution_count": 1,
   "id": "86a07f10",
   "metadata": {},
   "outputs": [],
   "source": [
    "%run reference_circuit.ipynb"
   ]
  },
  {
   "cell_type": "markdown",
   "id": "2e4a1c69",
   "metadata": {},
   "source": [
    "Libraries"
   ]
  },
  {
   "cell_type": "code",
   "execution_count": 2,
   "id": "a9611794",
   "metadata": {},
   "outputs": [],
   "source": [
    "import numpy as np\n",
    "import random\n",
    "import matplotlib.pyplot as plt\n",
    "from qiskit import QuantumCircuit\n",
    "from qiskit.quantum_info import Statevector"
   ]
  },
  {
   "cell_type": "markdown",
   "id": "3f55d8c9",
   "metadata": {},
   "source": [
    "Configuration"
   ]
  },
  {
   "cell_type": "code",
   "execution_count": 9,
   "id": "b8f07289",
   "metadata": {},
   "outputs": [],
   "source": [
    "NUM_QUBITS = 3\n",
    "POP_SIZE = 10\n",
    "N_GEN = 50\n",
    "MUTATION_RATE = 0.5\n",
    "ELITE_SIZE = 2\n",
    "LAMBDA_DEPTH = 0.1\n",
    "\n",
    "# Target distribution\n",
    "x = np.arange(2**NUM_QUBITS)\n",
    "p_target = np.exp(-0.5 * ((x - 3.5) / 1.0)**2)\n",
    "p_target /= np.sum(p_target)\n",
    "psi_target = np.sqrt(p_target)"
   ]
  },
  {
   "cell_type": "markdown",
   "id": "5f7f0c46",
   "metadata": {},
   "source": [
    "Helper functions"
   ]
  },
  {
   "cell_type": "code",
   "execution_count": 4,
   "id": "8738d3cd",
   "metadata": {},
   "outputs": [],
   "source": [
    "def kl_divergence(p, q, eps=1e-10):\n",
    "    p = np.clip(p, eps, 1)\n",
    "    q = np.clip(q, eps, 1)\n",
    "    return np.sum(p * np.log(p / q))\n",
    "\n",
    "GATES = ['h', 'x', 'y', 'z', 'rx', 'ry', 'rz', 'cx', 'cz', 'sx']\n",
    "\n",
    "def random_gate():\n",
    "    g = random.choice(GATES)\n",
    "    if g in ['rx', 'ry', 'rz']:\n",
    "        return (g, random.randint(0, NUM_QUBITS - 1), random.uniform(0, 2*np.pi))\n",
    "    elif g in ['cx', 'cz']:\n",
    "        control = random.randint(0, NUM_QUBITS - 1)\n",
    "        target = (control + 1) % NUM_QUBITS\n",
    "        return (g, control, target)\n",
    "    else:\n",
    "        return (g, random.randint(0, NUM_QUBITS - 1))\n",
    "\n",
    "def build_circuit(gates):\n",
    "    qc = QuantumCircuit(NUM_QUBITS)\n",
    "    for gate in gates:\n",
    "        if gate[0] in ['rx', 'ry', 'rz']:\n",
    "            getattr(qc, gate[0])(gate[2], gate[1])\n",
    "        elif gate[0] == 'cx':\n",
    "            qc.cx(gate[1], gate[2])\n",
    "        elif gate[0] == 'cz':\n",
    "            qc.cz(gate[1], gate[2])\n",
    "        else:\n",
    "            getattr(qc, gate[0])(gate[1])\n",
    "    return qc\n",
    "\n",
    "def fitness(ind):\n",
    "    qc = build_circuit(ind)\n",
    "    state = Statevector.from_instruction(qc)\n",
    "    probs = np.abs(state.data)**2\n",
    "    kl = kl_divergence(p_target, probs)\n",
    "    penalty = LAMBDA_DEPTH * qc.depth()\n",
    "    return -(kl + penalty)  # maximize negative loss\n",
    "\n",
    "# GA functions\n",
    "def mutate(ind):\n",
    "    ind = ind.copy()\n",
    "    if random.random() < 0.5 and len(ind) > 1:\n",
    "        ind[random.randint(0, len(ind)-1)] = random_gate()\n",
    "    else:\n",
    "        ind.append(random_gate())\n",
    "    return ind\n",
    "\n",
    "def crossover(p1, p2):\n",
    "    if len(p1) < 2 or len(p2) < 2:\n",
    "        return p1\n",
    "    point = random.randint(1, min(len(p1), len(p2)) - 1)\n",
    "    return p1[:point] + p2[point:]\n",
    "    \n",
    "def softmax(x, temperature=0.5): # higher temperature makes the distribution more flat (more uniform selection)\n",
    "    # recomended temperature [0.1, 0.8]\n",
    "    x = np.array(x)\n",
    "    x = x - np.max(x)  # For numerical stability\n",
    "    exps = np.exp(x / temperature)\n",
    "    return exps / np.sum(exps)\n",
    "\n",
    "def select(pop, fitnesses, temperature=0.5):\n",
    "    probs = softmax(fitnesses, temperature)\n",
    "    selected = random.choices(pop, weights=probs, k=POP_SIZE - ELITE_SIZE)\n",
    "    # Keep elites deterministically\n",
    "    elite_indices = np.argsort(fitnesses)[-ELITE_SIZE:]\n",
    "    elites = [pop[i] for i in elite_indices]\n",
    "    return elites + selected\n",
    "\n",
    "def random_individual(length=10):\n",
    "    return [random_gate() for _ in range(length)]"
   ]
  },
  {
   "cell_type": "markdown",
   "id": "ce08e69c",
   "metadata": {},
   "source": [
    "GA loop"
   ]
  },
  {
   "cell_type": "code",
   "execution_count": 5,
   "id": "de9c7699",
   "metadata": {},
   "outputs": [
    {
     "name": "stdout",
     "output_type": "stream",
     "text": [
      "[]\n",
      "Circuit depth: 125\n",
      "[['sx', Qubit(QuantumRegister(156, 'q'), 88), None], ['rz', Qubit(QuantumRegister(156, 'q'), 89), None], ['sx', Qubit(QuantumRegister(156, 'q'), 89), None], ['rz', Qubit(QuantumRegister(156, 'q'), 90), None], ['sx', Qubit(QuantumRegister(156, 'q'), 90), None], ['rz', Qubit(QuantumRegister(156, 'q'), 90), None], ['cz', Qubit(QuantumRegister(156, 'q'), 89), Qubit(QuantumRegister(156, 'q'), 90)], ['rz', Qubit(QuantumRegister(156, 'q'), 89), None], ['sx', Qubit(QuantumRegister(156, 'q'), 89), None], ['rz', Qubit(QuantumRegister(156, 'q'), 89), None], ['sx', Qubit(QuantumRegister(156, 'q'), 89), None], ['sx', Qubit(QuantumRegister(156, 'q'), 90), None], ['rz', Qubit(QuantumRegister(156, 'q'), 90), None], ['cz', Qubit(QuantumRegister(156, 'q'), 89), Qubit(QuantumRegister(156, 'q'), 90)], ['rz', Qubit(QuantumRegister(156, 'q'), 89), None], ['sx', Qubit(QuantumRegister(156, 'q'), 89), None], ['rz', Qubit(QuantumRegister(156, 'q'), 89), None], ['sx', Qubit(QuantumRegister(156, 'q'), 89), None], ['cz', Qubit(QuantumRegister(156, 'q'), 88), Qubit(QuantumRegister(156, 'q'), 89)], ['sx', Qubit(QuantumRegister(156, 'q'), 88), None], ['sx', Qubit(QuantumRegister(156, 'q'), 89), None], ['cz', Qubit(QuantumRegister(156, 'q'), 88), Qubit(QuantumRegister(156, 'q'), 89)], ['sx', Qubit(QuantumRegister(156, 'q'), 88), None], ['sx', Qubit(QuantumRegister(156, 'q'), 89), None], ['cz', Qubit(QuantumRegister(156, 'q'), 88), Qubit(QuantumRegister(156, 'q'), 89)], ['rz', Qubit(QuantumRegister(156, 'q'), 89), None], ['sx', Qubit(QuantumRegister(156, 'q'), 89), None], ['sx', Qubit(QuantumRegister(156, 'q'), 90), None], ['rz', Qubit(QuantumRegister(156, 'q'), 90), None], ['cz', Qubit(QuantumRegister(156, 'q'), 90), Qubit(QuantumRegister(156, 'q'), 89)], ['sx', Qubit(QuantumRegister(156, 'q'), 89), None], ['rz', Qubit(QuantumRegister(156, 'q'), 89), None], ['sx', Qubit(QuantumRegister(156, 'q'), 89), None], ['rz', Qubit(QuantumRegister(156, 'q'), 89), None], ['cz', Qubit(QuantumRegister(156, 'q'), 88), Qubit(QuantumRegister(156, 'q'), 89)], ['sx', Qubit(QuantumRegister(156, 'q'), 89), None], ['rz', Qubit(QuantumRegister(156, 'q'), 89), None], ['sx', Qubit(QuantumRegister(156, 'q'), 89), None], ['rz', Qubit(QuantumRegister(156, 'q'), 89), None], ['cz', Qubit(QuantumRegister(156, 'q'), 90), Qubit(QuantumRegister(156, 'q'), 89)], ['x', Qubit(QuantumRegister(156, 'q'), 89), None], ['cz', Qubit(QuantumRegister(156, 'q'), 88), Qubit(QuantumRegister(156, 'q'), 89)], ['x', Qubit(QuantumRegister(156, 'q'), 88), None], ['rz', Qubit(QuantumRegister(156, 'q'), 88), None], ['rz', Qubit(QuantumRegister(156, 'q'), 89), None], ['sx', Qubit(QuantumRegister(156, 'q'), 89), None], ['rz', Qubit(QuantumRegister(156, 'q'), 89), None], ['sx', Qubit(QuantumRegister(156, 'q'), 90), None], ['cz', Qubit(QuantumRegister(156, 'q'), 90), Qubit(QuantumRegister(156, 'q'), 89)], ['sx', Qubit(QuantumRegister(156, 'q'), 89), None], ['sx', Qubit(QuantumRegister(156, 'q'), 90), None], ['cz', Qubit(QuantumRegister(156, 'q'), 90), Qubit(QuantumRegister(156, 'q'), 89)], ['sx', Qubit(QuantumRegister(156, 'q'), 89), None], ['sx', Qubit(QuantumRegister(156, 'q'), 90), None], ['cz', Qubit(QuantumRegister(156, 'q'), 90), Qubit(QuantumRegister(156, 'q'), 89)], ['rz', Qubit(QuantumRegister(156, 'q'), 89), None], ['sx', Qubit(QuantumRegister(156, 'q'), 89), None], ['rz', Qubit(QuantumRegister(156, 'q'), 89), None], ['sx', Qubit(QuantumRegister(156, 'q'), 89), None], ['rz', Qubit(QuantumRegister(156, 'q'), 89), None], ['cz', Qubit(QuantumRegister(156, 'q'), 88), Qubit(QuantumRegister(156, 'q'), 89)], ['x', Qubit(QuantumRegister(156, 'q'), 88), None], ['rz', Qubit(QuantumRegister(156, 'q'), 88), None], ['sx', Qubit(QuantumRegister(156, 'q'), 89), None], ['rz', Qubit(QuantumRegister(156, 'q'), 89), None], ['sx', Qubit(QuantumRegister(156, 'q'), 89), None], ['cz', Qubit(QuantumRegister(156, 'q'), 88), Qubit(QuantumRegister(156, 'q'), 89)], ['x', Qubit(QuantumRegister(156, 'q'), 88), None], ['rz', Qubit(QuantumRegister(156, 'q'), 88), None], ['rz', Qubit(QuantumRegister(156, 'q'), 89), None], ['sx', Qubit(QuantumRegister(156, 'q'), 89), None], ['rz', Qubit(QuantumRegister(156, 'q'), 89), None], ['sx', Qubit(QuantumRegister(156, 'q'), 89), None], ['rz', Qubit(QuantumRegister(156, 'q'), 89), None], ['rz', Qubit(QuantumRegister(156, 'q'), 90), None], ['sx', Qubit(QuantumRegister(156, 'q'), 90), None], ['rz', Qubit(QuantumRegister(156, 'q'), 90), None], ['sx', Qubit(QuantumRegister(156, 'q'), 90), None], ['cz', Qubit(QuantumRegister(156, 'q'), 89), Qubit(QuantumRegister(156, 'q'), 90)], ['sx', Qubit(QuantumRegister(156, 'q'), 89), None], ['rz', Qubit(QuantumRegister(156, 'q'), 89), None], ['sx', Qubit(QuantumRegister(156, 'q'), 90), None], ['rz', Qubit(QuantumRegister(156, 'q'), 90), None], ['cz', Qubit(QuantumRegister(156, 'q'), 89), Qubit(QuantumRegister(156, 'q'), 90)], ['sx', Qubit(QuantumRegister(156, 'q'), 89), None], ['rz', Qubit(QuantumRegister(156, 'q'), 89), None], ['sx', Qubit(QuantumRegister(156, 'q'), 89), None], ['rz', Qubit(QuantumRegister(156, 'q'), 89), None], ['cz', Qubit(QuantumRegister(156, 'q'), 88), Qubit(QuantumRegister(156, 'q'), 89)], ['sx', Qubit(QuantumRegister(156, 'q'), 88), None], ['sx', Qubit(QuantumRegister(156, 'q'), 89), None], ['rz', Qubit(QuantumRegister(156, 'q'), 89), None], ['sx', Qubit(QuantumRegister(156, 'q'), 89), None], ['sx', Qubit(QuantumRegister(156, 'q'), 90), None], ['rz', Qubit(QuantumRegister(156, 'q'), 90), None], ['cz', Qubit(QuantumRegister(156, 'q'), 89), Qubit(QuantumRegister(156, 'q'), 90)], ['rz', Qubit(QuantumRegister(156, 'q'), 89), None], ['sx', Qubit(QuantumRegister(156, 'q'), 89), None], ['rz', Qubit(QuantumRegister(156, 'q'), 89), None], ['sx', Qubit(QuantumRegister(156, 'q'), 89), None], ['rz', Qubit(QuantumRegister(156, 'q'), 89), None], ['cz', Qubit(QuantumRegister(156, 'q'), 88), Qubit(QuantumRegister(156, 'q'), 89)], ['sx', Qubit(QuantumRegister(156, 'q'), 88), None], ['sx', Qubit(QuantumRegister(156, 'q'), 89), None], ['cz', Qubit(QuantumRegister(156, 'q'), 88), Qubit(QuantumRegister(156, 'q'), 89)], ['sx', Qubit(QuantumRegister(156, 'q'), 88), None], ['sx', Qubit(QuantumRegister(156, 'q'), 89), None], ['cz', Qubit(QuantumRegister(156, 'q'), 88), Qubit(QuantumRegister(156, 'q'), 89)], ['sx', Qubit(QuantumRegister(156, 'q'), 88), None], ['x', Qubit(QuantumRegister(156, 'q'), 89), None], ['rz', Qubit(QuantumRegister(156, 'q'), 89), None], ['sx', Qubit(QuantumRegister(156, 'q'), 90), None], ['rz', Qubit(QuantumRegister(156, 'q'), 90), None], ['sx', Qubit(QuantumRegister(156, 'q'), 90), None], ['rz', Qubit(QuantumRegister(156, 'q'), 90), None], ['cz', Qubit(QuantumRegister(156, 'q'), 89), Qubit(QuantumRegister(156, 'q'), 90)], ['x', Qubit(QuantumRegister(156, 'q'), 89), None], ['rz', Qubit(QuantumRegister(156, 'q'), 89), None], ['sx', Qubit(QuantumRegister(156, 'q'), 90), None], ['rz', Qubit(QuantumRegister(156, 'q'), 90), None], ['sx', Qubit(QuantumRegister(156, 'q'), 90), None], ['cz', Qubit(QuantumRegister(156, 'q'), 89), Qubit(QuantumRegister(156, 'q'), 90)], ['sx', Qubit(QuantumRegister(156, 'q'), 89), None], ['rz', Qubit(QuantumRegister(156, 'q'), 89), None], ['cz', Qubit(QuantumRegister(156, 'q'), 88), Qubit(QuantumRegister(156, 'q'), 89)], ['sx', Qubit(QuantumRegister(156, 'q'), 88), None], ['sx', Qubit(QuantumRegister(156, 'q'), 89), None], ['cz', Qubit(QuantumRegister(156, 'q'), 88), Qubit(QuantumRegister(156, 'q'), 89)], ['sx', Qubit(QuantumRegister(156, 'q'), 88), None], ['sx', Qubit(QuantumRegister(156, 'q'), 89), None], ['cz', Qubit(QuantumRegister(156, 'q'), 88), Qubit(QuantumRegister(156, 'q'), 89)], ['rz', Qubit(QuantumRegister(156, 'q'), 89), None], ['sx', Qubit(QuantumRegister(156, 'q'), 89), None], ['rz', Qubit(QuantumRegister(156, 'q'), 90), None], ['sx', Qubit(QuantumRegister(156, 'q'), 90), None], ['rz', Qubit(QuantumRegister(156, 'q'), 90), None], ['sx', Qubit(QuantumRegister(156, 'q'), 90), None], ['rz', Qubit(QuantumRegister(156, 'q'), 90), None], ['cz', Qubit(QuantumRegister(156, 'q'), 90), Qubit(QuantumRegister(156, 'q'), 89)], ['sx', Qubit(QuantumRegister(156, 'q'), 89), None], ['rz', Qubit(QuantumRegister(156, 'q'), 89), None], ['sx', Qubit(QuantumRegister(156, 'q'), 89), None], ['rz', Qubit(QuantumRegister(156, 'q'), 89), None], ['cz', Qubit(QuantumRegister(156, 'q'), 88), Qubit(QuantumRegister(156, 'q'), 89)], ['rz', Qubit(QuantumRegister(156, 'q'), 88), None], ['sx', Qubit(QuantumRegister(156, 'q'), 88), None], ['sx', Qubit(QuantumRegister(156, 'q'), 89), None], ['rz', Qubit(QuantumRegister(156, 'q'), 89), None], ['sx', Qubit(QuantumRegister(156, 'q'), 89), None], ['rz', Qubit(QuantumRegister(156, 'q'), 89), None], ['cz', Qubit(QuantumRegister(156, 'q'), 90), Qubit(QuantumRegister(156, 'q'), 89)], ['sx', Qubit(QuantumRegister(156, 'q'), 89), None], ['rz', Qubit(QuantumRegister(156, 'q'), 89), None], ['sx', Qubit(QuantumRegister(156, 'q'), 89), None], ['rz', Qubit(QuantumRegister(156, 'q'), 89), None], ['cz', Qubit(QuantumRegister(156, 'q'), 88), Qubit(QuantumRegister(156, 'q'), 89)], ['rz', Qubit(QuantumRegister(156, 'q'), 88), None], ['sx', Qubit(QuantumRegister(156, 'q'), 88), None], ['sx', Qubit(QuantumRegister(156, 'q'), 89), None], ['cz', Qubit(QuantumRegister(156, 'q'), 88), Qubit(QuantumRegister(156, 'q'), 89)], ['sx', Qubit(QuantumRegister(156, 'q'), 88), None], ['rz', Qubit(QuantumRegister(156, 'q'), 88), None], ['sx', Qubit(QuantumRegister(156, 'q'), 88), None], ['rz', Qubit(QuantumRegister(156, 'q'), 88), None], ['sx', Qubit(QuantumRegister(156, 'q'), 89), None], ['rz', Qubit(QuantumRegister(156, 'q'), 89), None], ['sx', Qubit(QuantumRegister(156, 'q'), 89), None], ['sx', Qubit(QuantumRegister(156, 'q'), 90), None], ['rz', Qubit(QuantumRegister(156, 'q'), 90), None], ['cz', Qubit(QuantumRegister(156, 'q'), 89), Qubit(QuantumRegister(156, 'q'), 90)], ['sx', Qubit(QuantumRegister(156, 'q'), 89), None], ['rz', Qubit(QuantumRegister(156, 'q'), 89), None], ['sx', Qubit(QuantumRegister(156, 'q'), 89), None], ['sx', Qubit(QuantumRegister(156, 'q'), 90), None], ['rz', Qubit(QuantumRegister(156, 'q'), 90), None], ['cz', Qubit(QuantumRegister(156, 'q'), 89), Qubit(QuantumRegister(156, 'q'), 90)], ['rz', Qubit(QuantumRegister(156, 'q'), 89), None], ['sx', Qubit(QuantumRegister(156, 'q'), 89), None], ['rz', Qubit(QuantumRegister(156, 'q'), 89), None], ['sx', Qubit(QuantumRegister(156, 'q'), 90), None], ['rz', Qubit(QuantumRegister(156, 'q'), 90), None]]\n"
     ]
    },
    {
     "name": "stderr",
     "output_type": "stream",
     "text": [
      "C:\\Users\\jiriv\\AppData\\Local\\Temp\\ipykernel_25780\\3966139205.py:14: DeprecationWarning: Treating CircuitInstruction as an iterable is deprecated legacy behavior since Qiskit 1.2, and will be removed in Qiskit 2.0. Instead, use the `operation`, `qubits` and `clbits` named attributes.\n",
      "  population.append([gate[0].name, gate[1][0], gate[1][1] if len(gate[1]) > 1 else None])\n"
     ]
    }
   ],
   "source": [
    "population = []\n",
    "print(population)\n",
    "#print(population)\n",
    "\n",
    "GHZ = np.array([1, 0, 0, 0, 0, 0, 0, 1]) / np.sqrt(2)\n",
    "GHZ_evolve_matrix = householder_unitary(GHZ)\n",
    "qc_ghz = create_reference_circuit(GHZ_evolve_matrix)\n",
    "\n",
    "#print(build_circuit(GATES))\n",
    "#print(qc_ghz)\n",
    "\n",
    "for gate in qc_ghz.data:\n",
    "    #print(gate)\n",
    "    population.append([gate[0].name, gate[1][0], gate[1][1] if len(gate[1]) > 1 else None])\n",
    "\n",
    "print(population)"
   ]
  },
  {
   "cell_type": "code",
   "execution_count": 6,
   "id": "30cee744",
   "metadata": {},
   "outputs": [
    {
     "ename": "CircuitError",
     "evalue": "\"Invalid bit index: 'x' of type '<class 'str'>'\"",
     "output_type": "error",
     "traceback": [
      "\u001b[31m---------------------------------------------------------------------------\u001b[39m",
      "\u001b[31mCircuitError\u001b[39m                              Traceback (most recent call last)",
      "\u001b[36mCell\u001b[39m\u001b[36m \u001b[39m\u001b[32mIn[6]\u001b[39m\u001b[32m, line 6\u001b[39m\n\u001b[32m      3\u001b[39m best_individual = \u001b[38;5;28;01mNone\u001b[39;00m\n\u001b[32m      5\u001b[39m \u001b[38;5;28;01mfor\u001b[39;00m gen \u001b[38;5;129;01min\u001b[39;00m \u001b[38;5;28mrange\u001b[39m(N_GEN):\n\u001b[32m----> \u001b[39m\u001b[32m6\u001b[39m     fitnesses = \u001b[43m[\u001b[49m\u001b[43mfitness\u001b[49m\u001b[43m(\u001b[49m\u001b[43mind\u001b[49m\u001b[43m)\u001b[49m\u001b[43m \u001b[49m\u001b[38;5;28;43;01mfor\u001b[39;49;00m\u001b[43m \u001b[49m\u001b[43mind\u001b[49m\u001b[43m \u001b[49m\u001b[38;5;129;43;01min\u001b[39;49;00m\u001b[43m \u001b[49m\u001b[43mpopulation\u001b[49m\u001b[43m]\u001b[49m\n\u001b[32m      7\u001b[39m     max_fit = \u001b[38;5;28mmax\u001b[39m(fitnesses)\n\u001b[32m      8\u001b[39m     \u001b[38;5;28mprint\u001b[39m(\u001b[33mf\u001b[39m\u001b[33m\"\u001b[39m\u001b[33mGen \u001b[39m\u001b[38;5;132;01m{\u001b[39;00mgen\u001b[38;5;132;01m}\u001b[39;00m\u001b[33m, best fitness: \u001b[39m\u001b[38;5;132;01m{\u001b[39;00m-max_fit\u001b[38;5;132;01m:\u001b[39;00m\u001b[33m.4f\u001b[39m\u001b[38;5;132;01m}\u001b[39;00m\u001b[33m\"\u001b[39m)\n",
      "\u001b[36mCell\u001b[39m\u001b[36m \u001b[39m\u001b[32mIn[6]\u001b[39m\u001b[32m, line 6\u001b[39m, in \u001b[36m<listcomp>\u001b[39m\u001b[34m(.0)\u001b[39m\n\u001b[32m      3\u001b[39m best_individual = \u001b[38;5;28;01mNone\u001b[39;00m\n\u001b[32m      5\u001b[39m \u001b[38;5;28;01mfor\u001b[39;00m gen \u001b[38;5;129;01min\u001b[39;00m \u001b[38;5;28mrange\u001b[39m(N_GEN):\n\u001b[32m----> \u001b[39m\u001b[32m6\u001b[39m     fitnesses = [\u001b[43mfitness\u001b[49m\u001b[43m(\u001b[49m\u001b[43mind\u001b[49m\u001b[43m)\u001b[49m \u001b[38;5;28;01mfor\u001b[39;00m ind \u001b[38;5;129;01min\u001b[39;00m population]\n\u001b[32m      7\u001b[39m     max_fit = \u001b[38;5;28mmax\u001b[39m(fitnesses)\n\u001b[32m      8\u001b[39m     \u001b[38;5;28mprint\u001b[39m(\u001b[33mf\u001b[39m\u001b[33m\"\u001b[39m\u001b[33mGen \u001b[39m\u001b[38;5;132;01m{\u001b[39;00mgen\u001b[38;5;132;01m}\u001b[39;00m\u001b[33m, best fitness: \u001b[39m\u001b[38;5;132;01m{\u001b[39;00m-max_fit\u001b[38;5;132;01m:\u001b[39;00m\u001b[33m.4f\u001b[39m\u001b[38;5;132;01m}\u001b[39;00m\u001b[33m\"\u001b[39m)\n",
      "\u001b[36mCell\u001b[39m\u001b[36m \u001b[39m\u001b[32mIn[4]\u001b[39m\u001b[32m, line 33\u001b[39m, in \u001b[36mfitness\u001b[39m\u001b[34m(ind)\u001b[39m\n\u001b[32m     32\u001b[39m \u001b[38;5;28;01mdef\u001b[39;00m\u001b[38;5;250m \u001b[39m\u001b[34mfitness\u001b[39m(ind):\n\u001b[32m---> \u001b[39m\u001b[32m33\u001b[39m     qc = \u001b[43mbuild_circuit\u001b[49m\u001b[43m(\u001b[49m\u001b[43mind\u001b[49m\u001b[43m)\u001b[49m\n\u001b[32m     34\u001b[39m     state = Statevector.from_instruction(qc)\n\u001b[32m     35\u001b[39m     probs = np.abs(state.data)**\u001b[32m2\u001b[39m\n",
      "\u001b[36mCell\u001b[39m\u001b[36m \u001b[39m\u001b[32mIn[4]\u001b[39m\u001b[32m, line 29\u001b[39m, in \u001b[36mbuild_circuit\u001b[39m\u001b[34m(gates)\u001b[39m\n\u001b[32m     27\u001b[39m         qc.cz(gate[\u001b[32m1\u001b[39m], gate[\u001b[32m2\u001b[39m])\n\u001b[32m     28\u001b[39m     \u001b[38;5;28;01melse\u001b[39;00m:\n\u001b[32m---> \u001b[39m\u001b[32m29\u001b[39m         \u001b[38;5;28;43mgetattr\u001b[39;49m\u001b[43m(\u001b[49m\u001b[43mqc\u001b[49m\u001b[43m,\u001b[49m\u001b[43m \u001b[49m\u001b[43mgate\u001b[49m\u001b[43m[\u001b[49m\u001b[32;43m0\u001b[39;49m\u001b[43m]\u001b[49m\u001b[43m)\u001b[49m\u001b[43m(\u001b[49m\u001b[43mgate\u001b[49m\u001b[43m[\u001b[49m\u001b[32;43m1\u001b[39;49m\u001b[43m]\u001b[49m\u001b[43m)\u001b[49m\n\u001b[32m     30\u001b[39m \u001b[38;5;28;01mreturn\u001b[39;00m qc\n",
      "\u001b[36mFile \u001b[39m\u001b[32mc:\\Users\\jiriv\\Documents\\škola\\test_venv\\Lib\\site-packages\\qiskit\\circuit\\quantumcircuit.py:5012\u001b[39m, in \u001b[36mQuantumCircuit.s\u001b[39m\u001b[34m(self, qubit)\u001b[39m\n\u001b[32m   5001\u001b[39m \u001b[38;5;28;01mdef\u001b[39;00m\u001b[38;5;250m \u001b[39m\u001b[34ms\u001b[39m(\u001b[38;5;28mself\u001b[39m, qubit: QubitSpecifier) -> InstructionSet:\n\u001b[32m   5002\u001b[39m \u001b[38;5;250m    \u001b[39m\u001b[33;03m\"\"\"Apply :class:`~qiskit.circuit.library.SGate`.\u001b[39;00m\n\u001b[32m   5003\u001b[39m \n\u001b[32m   5004\u001b[39m \u001b[33;03m    For the full matrix form of this gate, see the underlying gate documentation.\u001b[39;00m\n\u001b[32m   (...)\u001b[39m\u001b[32m   5010\u001b[39m \u001b[33;03m        A handle to the instructions created.\u001b[39;00m\n\u001b[32m   5011\u001b[39m \u001b[33;03m    \"\"\"\u001b[39;00m\n\u001b[32m-> \u001b[39m\u001b[32m5012\u001b[39m     \u001b[38;5;28;01mreturn\u001b[39;00m \u001b[38;5;28;43mself\u001b[39;49m\u001b[43m.\u001b[49m\u001b[43m_append_standard_gate\u001b[49m\u001b[43m(\u001b[49m\u001b[43mStandardGate\u001b[49m\u001b[43m.\u001b[49m\u001b[43mSGate\u001b[49m\u001b[43m,\u001b[49m\u001b[43m \u001b[49m\u001b[43m[\u001b[49m\u001b[43mqubit\u001b[49m\u001b[43m]\u001b[49m\u001b[43m,\u001b[49m\u001b[43m \u001b[49m\u001b[43m(\u001b[49m\u001b[43m)\u001b[49m\u001b[43m)\u001b[49m\n",
      "\u001b[36mFile \u001b[39m\u001b[32mc:\\Users\\jiriv\\Documents\\škola\\test_venv\\Lib\\site-packages\\qiskit\\circuit\\quantumcircuit.py:2448\u001b[39m, in \u001b[36mQuantumCircuit._append_standard_gate\u001b[39m\u001b[34m(self, op, qargs, params, label)\u001b[39m\n\u001b[32m   2445\u001b[39m \u001b[38;5;28;01mif\u001b[39;00m params \u001b[38;5;129;01mis\u001b[39;00m \u001b[38;5;28;01mNone\u001b[39;00m:\n\u001b[32m   2446\u001b[39m     params = []\n\u001b[32m-> \u001b[39m\u001b[32m2448\u001b[39m expanded_qargs = \u001b[43m[\u001b[49m\u001b[38;5;28;43mself\u001b[39;49m\u001b[43m.\u001b[49m\u001b[43m_qbit_argument_conversion\u001b[49m\u001b[43m(\u001b[49m\u001b[43mqarg\u001b[49m\u001b[43m)\u001b[49m\u001b[43m \u001b[49m\u001b[38;5;28;43;01mfor\u001b[39;49;00m\u001b[43m \u001b[49m\u001b[43mqarg\u001b[49m\u001b[43m \u001b[49m\u001b[38;5;129;43;01min\u001b[39;49;00m\u001b[43m \u001b[49m\u001b[43mqargs\u001b[49m\u001b[43m \u001b[49m\u001b[38;5;129;43;01mor\u001b[39;49;00m\u001b[43m \u001b[49m\u001b[43m[\u001b[49m\u001b[43m]\u001b[49m\u001b[43m]\u001b[49m\n\u001b[32m   2449\u001b[39m \u001b[38;5;28;01mfor\u001b[39;00m param \u001b[38;5;129;01min\u001b[39;00m params:\n\u001b[32m   2450\u001b[39m     Gate.validate_parameter(op, param)\n",
      "\u001b[36mFile \u001b[39m\u001b[32mc:\\Users\\jiriv\\Documents\\škola\\test_venv\\Lib\\site-packages\\qiskit\\circuit\\quantumcircuit.py:2448\u001b[39m, in \u001b[36m<listcomp>\u001b[39m\u001b[34m(.0)\u001b[39m\n\u001b[32m   2445\u001b[39m \u001b[38;5;28;01mif\u001b[39;00m params \u001b[38;5;129;01mis\u001b[39;00m \u001b[38;5;28;01mNone\u001b[39;00m:\n\u001b[32m   2446\u001b[39m     params = []\n\u001b[32m-> \u001b[39m\u001b[32m2448\u001b[39m expanded_qargs = [\u001b[38;5;28;43mself\u001b[39;49m\u001b[43m.\u001b[49m\u001b[43m_qbit_argument_conversion\u001b[49m\u001b[43m(\u001b[49m\u001b[43mqarg\u001b[49m\u001b[43m)\u001b[49m \u001b[38;5;28;01mfor\u001b[39;00m qarg \u001b[38;5;129;01min\u001b[39;00m qargs \u001b[38;5;129;01mor\u001b[39;00m []]\n\u001b[32m   2449\u001b[39m \u001b[38;5;28;01mfor\u001b[39;00m param \u001b[38;5;129;01min\u001b[39;00m params:\n\u001b[32m   2450\u001b[39m     Gate.validate_parameter(op, param)\n",
      "\u001b[36mFile \u001b[39m\u001b[32mc:\\Users\\jiriv\\Documents\\škola\\test_venv\\Lib\\site-packages\\qiskit\\circuit\\quantumcircuit.py:2397\u001b[39m, in \u001b[36mQuantumCircuit._qbit_argument_conversion\u001b[39m\u001b[34m(self, qubit_representation)\u001b[39m\n\u001b[32m   2386\u001b[39m \u001b[38;5;28;01mdef\u001b[39;00m\u001b[38;5;250m \u001b[39m\u001b[34m_qbit_argument_conversion\u001b[39m(\u001b[38;5;28mself\u001b[39m, qubit_representation: QubitSpecifier) -> \u001b[38;5;28mlist\u001b[39m[Qubit]:\n\u001b[32m   2387\u001b[39m \u001b[38;5;250m    \u001b[39m\u001b[33;03m\"\"\"\u001b[39;00m\n\u001b[32m   2388\u001b[39m \u001b[33;03m    Converts several qubit representations (such as indexes, range, etc.)\u001b[39;00m\n\u001b[32m   2389\u001b[39m \u001b[33;03m    into a list of qubits.\u001b[39;00m\n\u001b[32m   (...)\u001b[39m\u001b[32m   2395\u001b[39m \u001b[33;03m        The resolved instances of the qubits.\u001b[39;00m\n\u001b[32m   2396\u001b[39m \u001b[33;03m    \"\"\"\u001b[39;00m\n\u001b[32m-> \u001b[39m\u001b[32m2397\u001b[39m     \u001b[38;5;28;01mreturn\u001b[39;00m \u001b[43m_bit_argument_conversion\u001b[49m\u001b[43m(\u001b[49m\n\u001b[32m   2398\u001b[39m \u001b[43m        \u001b[49m\u001b[43mqubit_representation\u001b[49m\u001b[43m,\u001b[49m\u001b[43m \u001b[49m\u001b[38;5;28;43mself\u001b[39;49m\u001b[43m.\u001b[49m\u001b[43mqubits\u001b[49m\u001b[43m,\u001b[49m\u001b[43m \u001b[49m\u001b[38;5;28;43mself\u001b[39;49m\u001b[43m.\u001b[49m\u001b[43m_qubit_indices\u001b[49m\u001b[43m,\u001b[49m\u001b[43m \u001b[49m\u001b[43mQubit\u001b[49m\n\u001b[32m   2399\u001b[39m \u001b[43m    \u001b[49m\u001b[43m)\u001b[49m\n",
      "\u001b[36mFile \u001b[39m\u001b[32mc:\\Users\\jiriv\\Documents\\škola\\test_venv\\Lib\\site-packages\\qiskit\\circuit\\quantumcircuit.py:6828\u001b[39m, in \u001b[36m_bit_argument_conversion\u001b[39m\u001b[34m(specifier, bit_sequence, bit_set, type_)\u001b[39m\n\u001b[32m   6826\u001b[39m     \u001b[38;5;28;01mreturn\u001b[39;00m bit_sequence[specifier]\n\u001b[32m   6827\u001b[39m \u001b[38;5;28;01mtry\u001b[39;00m:\n\u001b[32m-> \u001b[39m\u001b[32m6828\u001b[39m     \u001b[38;5;28;01mreturn\u001b[39;00m \u001b[43m[\u001b[49m\n\u001b[32m   6829\u001b[39m \u001b[43m        \u001b[49m\u001b[43m_bit_argument_conversion_scalar\u001b[49m\u001b[43m(\u001b[49m\u001b[43mindex\u001b[49m\u001b[43m,\u001b[49m\u001b[43m \u001b[49m\u001b[43mbit_sequence\u001b[49m\u001b[43m,\u001b[49m\u001b[43m \u001b[49m\u001b[43mbit_set\u001b[49m\u001b[43m,\u001b[49m\u001b[43m \u001b[49m\u001b[43mtype_\u001b[49m\u001b[43m)\u001b[49m\n\u001b[32m   6830\u001b[39m \u001b[43m        \u001b[49m\u001b[38;5;28;43;01mfor\u001b[39;49;00m\u001b[43m \u001b[49m\u001b[43mindex\u001b[49m\u001b[43m \u001b[49m\u001b[38;5;129;43;01min\u001b[39;49;00m\u001b[43m \u001b[49m\u001b[43mspecifier\u001b[49m\n\u001b[32m   6831\u001b[39m \u001b[43m    \u001b[49m\u001b[43m]\u001b[49m\n\u001b[32m   6832\u001b[39m \u001b[38;5;28;01mexcept\u001b[39;00m \u001b[38;5;167;01mTypeError\u001b[39;00m \u001b[38;5;28;01mas\u001b[39;00m ex:\n\u001b[32m   6833\u001b[39m     message = (\n\u001b[32m   6834\u001b[39m         \u001b[33mf\u001b[39m\u001b[33m\"\u001b[39m\u001b[33mIncorrect bit type: expected \u001b[39m\u001b[33m'\u001b[39m\u001b[38;5;132;01m{\u001b[39;00mtype_.\u001b[34m__name__\u001b[39m\u001b[38;5;132;01m}\u001b[39;00m\u001b[33m'\u001b[39m\u001b[33m but got \u001b[39m\u001b[33m'\u001b[39m\u001b[38;5;132;01m{\u001b[39;00m\u001b[38;5;28mtype\u001b[39m(specifier).\u001b[34m__name__\u001b[39m\u001b[38;5;132;01m}\u001b[39;00m\u001b[33m'\u001b[39m\u001b[33m\"\u001b[39m\n\u001b[32m   6835\u001b[39m         \u001b[38;5;28;01mif\u001b[39;00m \u001b[38;5;28misinstance\u001b[39m(specifier, Bit)\n\u001b[32m   6836\u001b[39m         \u001b[38;5;28;01melse\u001b[39;00m \u001b[33mf\u001b[39m\u001b[33m\"\u001b[39m\u001b[33mInvalid bit index: \u001b[39m\u001b[33m'\u001b[39m\u001b[38;5;132;01m{\u001b[39;00mspecifier\u001b[38;5;132;01m}\u001b[39;00m\u001b[33m'\u001b[39m\u001b[33m of type \u001b[39m\u001b[33m'\u001b[39m\u001b[38;5;132;01m{\u001b[39;00m\u001b[38;5;28mtype\u001b[39m(specifier)\u001b[38;5;132;01m}\u001b[39;00m\u001b[33m'\u001b[39m\u001b[33m\"\u001b[39m\n\u001b[32m   6837\u001b[39m     )\n",
      "\u001b[36mFile \u001b[39m\u001b[32mc:\\Users\\jiriv\\Documents\\škola\\test_venv\\Lib\\site-packages\\qiskit\\circuit\\quantumcircuit.py:6829\u001b[39m, in \u001b[36m<listcomp>\u001b[39m\u001b[34m(.0)\u001b[39m\n\u001b[32m   6826\u001b[39m     \u001b[38;5;28;01mreturn\u001b[39;00m bit_sequence[specifier]\n\u001b[32m   6827\u001b[39m \u001b[38;5;28;01mtry\u001b[39;00m:\n\u001b[32m   6828\u001b[39m     \u001b[38;5;28;01mreturn\u001b[39;00m [\n\u001b[32m-> \u001b[39m\u001b[32m6829\u001b[39m         \u001b[43m_bit_argument_conversion_scalar\u001b[49m\u001b[43m(\u001b[49m\u001b[43mindex\u001b[49m\u001b[43m,\u001b[49m\u001b[43m \u001b[49m\u001b[43mbit_sequence\u001b[49m\u001b[43m,\u001b[49m\u001b[43m \u001b[49m\u001b[43mbit_set\u001b[49m\u001b[43m,\u001b[49m\u001b[43m \u001b[49m\u001b[43mtype_\u001b[49m\u001b[43m)\u001b[49m\n\u001b[32m   6830\u001b[39m         \u001b[38;5;28;01mfor\u001b[39;00m index \u001b[38;5;129;01min\u001b[39;00m specifier\n\u001b[32m   6831\u001b[39m     ]\n\u001b[32m   6832\u001b[39m \u001b[38;5;28;01mexcept\u001b[39;00m \u001b[38;5;167;01mTypeError\u001b[39;00m \u001b[38;5;28;01mas\u001b[39;00m ex:\n\u001b[32m   6833\u001b[39m     message = (\n\u001b[32m   6834\u001b[39m         \u001b[33mf\u001b[39m\u001b[33m\"\u001b[39m\u001b[33mIncorrect bit type: expected \u001b[39m\u001b[33m'\u001b[39m\u001b[38;5;132;01m{\u001b[39;00mtype_.\u001b[34m__name__\u001b[39m\u001b[38;5;132;01m}\u001b[39;00m\u001b[33m'\u001b[39m\u001b[33m but got \u001b[39m\u001b[33m'\u001b[39m\u001b[38;5;132;01m{\u001b[39;00m\u001b[38;5;28mtype\u001b[39m(specifier).\u001b[34m__name__\u001b[39m\u001b[38;5;132;01m}\u001b[39;00m\u001b[33m'\u001b[39m\u001b[33m\"\u001b[39m\n\u001b[32m   6835\u001b[39m         \u001b[38;5;28;01mif\u001b[39;00m \u001b[38;5;28misinstance\u001b[39m(specifier, Bit)\n\u001b[32m   6836\u001b[39m         \u001b[38;5;28;01melse\u001b[39;00m \u001b[33mf\u001b[39m\u001b[33m\"\u001b[39m\u001b[33mInvalid bit index: \u001b[39m\u001b[33m'\u001b[39m\u001b[38;5;132;01m{\u001b[39;00mspecifier\u001b[38;5;132;01m}\u001b[39;00m\u001b[33m'\u001b[39m\u001b[33m of type \u001b[39m\u001b[33m'\u001b[39m\u001b[38;5;132;01m{\u001b[39;00m\u001b[38;5;28mtype\u001b[39m(specifier)\u001b[38;5;132;01m}\u001b[39;00m\u001b[33m'\u001b[39m\u001b[33m\"\u001b[39m\n\u001b[32m   6837\u001b[39m     )\n",
      "\u001b[36mFile \u001b[39m\u001b[32mc:\\Users\\jiriv\\Documents\\škola\\test_venv\\Lib\\site-packages\\qiskit\\circuit\\quantumcircuit.py:6858\u001b[39m, in \u001b[36m_bit_argument_conversion_scalar\u001b[39m\u001b[34m(specifier, bit_sequence, bit_set, type_)\u001b[39m\n\u001b[32m   6850\u001b[39m         \u001b[38;5;28;01mraise\u001b[39;00m CircuitError(\n\u001b[32m   6851\u001b[39m             \u001b[33mf\u001b[39m\u001b[33m\"\u001b[39m\u001b[33mIndex \u001b[39m\u001b[38;5;132;01m{\u001b[39;00mspecifier\u001b[38;5;132;01m}\u001b[39;00m\u001b[33m out of range for size \u001b[39m\u001b[38;5;132;01m{\u001b[39;00m\u001b[38;5;28mlen\u001b[39m(bit_sequence)\u001b[38;5;132;01m}\u001b[39;00m\u001b[33m.\u001b[39m\u001b[33m\"\u001b[39m\n\u001b[32m   6852\u001b[39m         ) \u001b[38;5;28;01mfrom\u001b[39;00m\u001b[38;5;250m \u001b[39m\u001b[34;01mex\u001b[39;00m\n\u001b[32m   6853\u001b[39m message = (\n\u001b[32m   6854\u001b[39m     \u001b[33mf\u001b[39m\u001b[33m\"\u001b[39m\u001b[33mIncorrect bit type: expected \u001b[39m\u001b[33m'\u001b[39m\u001b[38;5;132;01m{\u001b[39;00mtype_.\u001b[34m__name__\u001b[39m\u001b[38;5;132;01m}\u001b[39;00m\u001b[33m'\u001b[39m\u001b[33m but got \u001b[39m\u001b[33m'\u001b[39m\u001b[38;5;132;01m{\u001b[39;00m\u001b[38;5;28mtype\u001b[39m(specifier).\u001b[34m__name__\u001b[39m\u001b[38;5;132;01m}\u001b[39;00m\u001b[33m'\u001b[39m\u001b[33m\"\u001b[39m\n\u001b[32m   6855\u001b[39m     \u001b[38;5;28;01mif\u001b[39;00m \u001b[38;5;28misinstance\u001b[39m(specifier, Bit)\n\u001b[32m   6856\u001b[39m     \u001b[38;5;28;01melse\u001b[39;00m \u001b[33mf\u001b[39m\u001b[33m\"\u001b[39m\u001b[33mInvalid bit index: \u001b[39m\u001b[33m'\u001b[39m\u001b[38;5;132;01m{\u001b[39;00mspecifier\u001b[38;5;132;01m}\u001b[39;00m\u001b[33m'\u001b[39m\u001b[33m of type \u001b[39m\u001b[33m'\u001b[39m\u001b[38;5;132;01m{\u001b[39;00m\u001b[38;5;28mtype\u001b[39m(specifier)\u001b[38;5;132;01m}\u001b[39;00m\u001b[33m'\u001b[39m\u001b[33m\"\u001b[39m\n\u001b[32m   6857\u001b[39m )\n\u001b[32m-> \u001b[39m\u001b[32m6858\u001b[39m \u001b[38;5;28;01mraise\u001b[39;00m CircuitError(message)\n",
      "\u001b[31mCircuitError\u001b[39m: \"Invalid bit index: 'x' of type '<class 'str'>'\""
     ]
    }
   ],
   "source": [
    "#population = [random_individual() for _ in range(POP_SIZE)]\n",
    "best_fitness = -np.inf\n",
    "best_individual = None\n",
    "\n",
    "for gen in range(N_GEN):\n",
    "    fitnesses = [fitness(ind) for ind in population]\n",
    "    max_fit = max(fitnesses)\n",
    "    print(f\"Gen {gen}, best fitness: {-max_fit:.4f}\")\n",
    "    if max_fit > best_fitness:\n",
    "        best_fitness = max_fit\n",
    "        best_individual = population[np.argmax(fitnesses)]\n",
    "    selected = select(population, fitnesses)\n",
    "    new_pop = selected[:ELITE_SIZE]\n",
    "    while len(new_pop) < POP_SIZE:\n",
    "        p1, p2 = random.sample(selected, 2)\n",
    "        child = crossover(p1, p2)\n",
    "        if random.random() < MUTATION_RATE:\n",
    "            child = mutate(child)\n",
    "        new_pop.append(child)\n",
    "    population = new_pop\n",
    "\n",
    "# Evaluate best individual\n",
    "qc_best = build_circuit(best_individual)\n",
    "print(qc_best.draw(output='text'))\n",
    "state_best = Statevector.from_instruction(qc_best)\n",
    "probs_best = np.abs(state_best.data) ** 2\n",
    "kl_best = kl_divergence(p_target, probs_best)\n",
    "\n",
    "# Plot\n",
    "labels = [f'{i:03b}' for i in range(len(p_target))]\n",
    "x = np.arange(len(p_target))\n",
    "\n",
    "plt.figure(figsize=(10, 5))\n",
    "plt.bar(x - 0.15, p_target, width=0.3, label='Target', align='center')\n",
    "plt.bar(x + 0.15, probs_best, width=0.3, label='Best Circuit', align='center')\n",
    "plt.xticks(x, labels)\n",
    "plt.xlabel('Basis State')\n",
    "plt.ylabel('Probability')\n",
    "plt.title(f'Final KL Divergence: {kl_best:.5f}')\n",
    "plt.legend()\n",
    "plt.tight_layout()\n",
    "plt.show()\n",
    "\n",
    "print(\"Best circuit:\\n\", qc_best.draw())\n"
   ]
  },
  {
   "cell_type": "code",
   "execution_count": null,
   "id": "f61b635a",
   "metadata": {},
   "outputs": [],
   "source": []
  }
 ],
 "metadata": {
  "kernelspec": {
   "display_name": "test_venv",
   "language": "python",
   "name": "python3"
  },
  "language_info": {
   "codemirror_mode": {
    "name": "ipython",
    "version": 3
   },
   "file_extension": ".py",
   "mimetype": "text/x-python",
   "name": "python",
   "nbconvert_exporter": "python",
   "pygments_lexer": "ipython3",
   "version": "3.11.6"
  }
 },
 "nbformat": 4,
 "nbformat_minor": 5
}
