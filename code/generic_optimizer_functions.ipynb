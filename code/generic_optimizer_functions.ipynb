{
 "cells": [
  {
   "cell_type": "markdown",
   "id": "d02b8747",
   "metadata": {},
   "source": [
    "Previous notebooks"
   ]
  },
  {
   "cell_type": "code",
   "execution_count": 2,
   "id": "86a07f10",
   "metadata": {},
   "outputs": [
    {
     "name": "stderr",
     "output_type": "stream",
     "text": [
      "/tmp/ipykernel_19859/854499027.py:1: DeprecationWarning: The \"ibm_quantum\" channel option is deprecated and will be sunset on 1 July. After this date, \"ibm_cloud\", \"ibm_quantum_platform\", and \"local\" will be the only valid channels. Open Plan users should migrate now.  All other users should review the migration guide (https://quantum.cloud.ibm.com/docs/migration-guides/classic-iqp-to-cloud-iqp)to learn when to migrate.\n",
      "  runtime_service_Jiri = QiskitRuntimeService(\n"
     ]
    }
   ],
   "source": [
    "%run reference_circuit.ipynb"
   ]
  },
  {
   "cell_type": "markdown",
   "id": "2e4a1c69",
   "metadata": {},
   "source": [
    "Libraries"
   ]
  },
  {
   "cell_type": "code",
   "execution_count": 4,
   "id": "a9611794",
   "metadata": {},
   "outputs": [],
   "source": [
    "import numpy as np\n",
    "import random\n",
    "import matplotlib.pyplot as plt\n",
    "from qiskit import QuantumCircuit\n",
    "from qiskit.quantum_info import Statevector"
   ]
  },
  {
   "cell_type": "markdown",
   "id": "3f55d8c9",
   "metadata": {},
   "source": [
    "Configuration"
   ]
  },
  {
   "cell_type": "code",
   "execution_count": 5,
   "id": "b8f07289",
   "metadata": {},
   "outputs": [],
   "source": [
    "NUM_QUBITS = 3\n",
    "POP_SIZE = 10\n",
    "N_GEN = 50\n",
    "MUTATION_RATE = 0.5\n",
    "ELITE_SIZE = 2\n",
    "LAMBDA_DEPTH = 0.1\n",
    "\n",
    "# Target distribution\n",
    "x = np.arange(2**NUM_QUBITS)\n",
    "p_target = np.exp(-0.5 * ((x - 3.5) / 1.0)**2)\n",
    "p_target /= np.sum(p_target)\n",
    "psi_target = np.sqrt(p_target)"
   ]
  },
  {
   "cell_type": "markdown",
   "id": "5f7f0c46",
   "metadata": {},
   "source": [
    "Helper functions"
   ]
  },
  {
   "cell_type": "code",
   "execution_count": 6,
   "id": "8738d3cd",
   "metadata": {},
   "outputs": [],
   "source": [
    "def kl_divergence(p, q, eps=1e-10):\n",
    "    p = np.clip(p, eps, 1)\n",
    "    q = np.clip(q, eps, 1)\n",
    "    return np.sum(p * np.log(p / q))\n",
    "\n",
    "GATES = ['h', 'x', 'y', 'z', 'rx', 'ry', 'rz', 'cx', 'cz', 'sx']\n",
    "\n",
    "def random_gate():\n",
    "    g = random.choice(GATES)\n",
    "    if g in ['rx', 'ry', 'rz']:\n",
    "        return (g, random.randint(0, NUM_QUBITS - 1), random.uniform(0, 2*np.pi))\n",
    "    elif g in ['cx', 'cz']:\n",
    "        control = random.randint(0, NUM_QUBITS - 1)\n",
    "        target = (control + 1) % NUM_QUBITS\n",
    "        return (g, control, target)\n",
    "    else:\n",
    "        return (g, random.randint(0, NUM_QUBITS - 1))\n",
    "\n",
    "def build_circuit(gates):\n",
    "    qc = QuantumCircuit(NUM_QUBITS)\n",
    "    for gate in gates:\n",
    "        if gate[0] in ['rx', 'ry', 'rz']:\n",
    "            getattr(qc, gate[0])(gate[2], gate[1])\n",
    "        elif gate[0] == 'cx':\n",
    "            qc.cx(gate[1], gate[2])\n",
    "        elif gate[0] == 'cz':\n",
    "            qc.cz(gate[1], gate[2])\n",
    "        else:\n",
    "            getattr(qc, gate[0])(gate[1])\n",
    "    return qc\n",
    "\n",
    "def fitness(ind):\n",
    "    qc = build_circuit(ind)\n",
    "    state = Statevector.from_instruction(qc)\n",
    "    probs = np.abs(state.data)**2\n",
    "    kl = kl_divergence(p_target, probs)\n",
    "    penalty = LAMBDA_DEPTH * qc.depth()\n",
    "    return -(kl + penalty)  # maximize negative loss\n",
    "\n",
    "# GA functions\n",
    "def mutate(ind):\n",
    "    ind = ind.copy()\n",
    "    if random.random() < 0.5 and len(ind) > 1:\n",
    "        ind[random.randint(0, len(ind)-1)] = random_gate()\n",
    "    else:\n",
    "        ind.append(random_gate())\n",
    "    return ind\n",
    "\n",
    "def crossover(p1, p2):\n",
    "    if len(p1) < 2 or len(p2) < 2:\n",
    "        return p1\n",
    "    point = random.randint(1, min(len(p1), len(p2)) - 1)\n",
    "    return p1[:point] + p2[point:]\n",
    "    \n",
    "def softmax(x, temperature=0.5): # higher temperature makes the distribution more flat (more uniform selection)\n",
    "    # recomended temperature [0.1, 0.8]\n",
    "    x = np.array(x)\n",
    "    x = x - np.max(x)  # For numerical stability\n",
    "    exps = np.exp(x / temperature)\n",
    "    return exps / np.sum(exps)\n",
    "\n",
    "def select(pop, fitnesses, temperature=0.5):\n",
    "    probs = softmax(fitnesses, temperature)\n",
    "    selected = random.choices(pop, weights=probs, k=POP_SIZE - ELITE_SIZE)\n",
    "    # Keep elites deterministically\n",
    "    elite_indices = np.argsort(fitnesses)[-ELITE_SIZE:]\n",
    "    elites = [pop[i] for i in elite_indices]\n",
    "    return elites + selected\n",
    "\n",
    "def random_individual(length=10):\n",
    "    return [random_gate() for _ in range(length)]"
   ]
  },
  {
   "cell_type": "markdown",
   "id": "ce08e69c",
   "metadata": {},
   "source": [
    "GA loop"
   ]
  },
  {
   "cell_type": "code",
   "execution_count": 2,
   "id": "de9c7699",
   "metadata": {},
   "outputs": [
    {
     "name": "stdout",
     "output_type": "stream",
     "text": [
      "[]\n"
     ]
    },
    {
     "ename": "NameError",
     "evalue": "name 'np' is not defined",
     "output_type": "error",
     "traceback": [
      "\u001b[31m---------------------------------------------------------------------------\u001b[39m",
      "\u001b[31mNameError\u001b[39m                                 Traceback (most recent call last)",
      "\u001b[36mCell\u001b[39m\u001b[36m \u001b[39m\u001b[32mIn[2]\u001b[39m\u001b[32m, line 5\u001b[39m\n\u001b[32m      2\u001b[39m \u001b[38;5;28mprint\u001b[39m(population)\n\u001b[32m      3\u001b[39m \u001b[38;5;66;03m#print(population)\u001b[39;00m\n\u001b[32m----> \u001b[39m\u001b[32m5\u001b[39m GHZ = \u001b[43mnp\u001b[49m.array([\u001b[32m1\u001b[39m, \u001b[32m0\u001b[39m, \u001b[32m0\u001b[39m, \u001b[32m0\u001b[39m, \u001b[32m0\u001b[39m, \u001b[32m0\u001b[39m, \u001b[32m0\u001b[39m, \u001b[32m1\u001b[39m]) / np.sqrt(\u001b[32m2\u001b[39m)\n\u001b[32m      6\u001b[39m GHZ_evolve_matrix = householder_unitary(GHZ)\n\u001b[32m      7\u001b[39m qc_ghz = create_reference_circuit(GHZ_evolve_matrix)\n",
      "\u001b[31mNameError\u001b[39m: name 'np' is not defined"
     ]
    }
   ],
   "source": [
    "population = []\n",
    "print(population)\n",
    "#print(population)\n",
    "\n",
    "GHZ = np.array([1, 0, 0, 0, 0, 0, 0, 1]) / np.sqrt(2)\n",
    "GHZ_evolve_matrix = householder_unitary(GHZ)\n",
    "qc_ghz = create_reference_circuit(GHZ_evolve_matrix)\n",
    "\n",
    "#print(build_circuit(GATES))\n",
    "#print(qc_ghz)\n",
    "\n",
    "indicies_used = set()\n",
    "for gate in qc_ghz.data:\n",
    "    #print(gate)\n",
    "    population.append([gate[0].name, gate[1][0]._index, gate[1][1]._index if len(gate[1]) > 1 else None])\n",
    "    indicies_used.add(gate[1][0]._index)\n",
    "    if len(gate[1]) > 1:\n",
    "        indicies_used.add(gate[1][1]._index)  \n",
    "    if population[-1][-1] is None:\n",
    "        population.pop()\n",
    "     \n",
    "print(population)\n",
    "assert NUM_QUBITS == len(indecies_used)\n",
    "mapped_index = sorted(list(indicies_used))\n",
    "for i in range(len(population)):\n",
    "    population[i][1] = mapped_index.index(population[i][1])\n",
    "    if len(population[i]) > 2:\n",
    "        population[i][2] = mapped_index.index(population[i][2])\n"
   ]
  },
  {
   "cell_type": "code",
   "execution_count": null,
   "id": "30cee744",
   "metadata": {},
   "outputs": [],
   "source": [
    "#population = [random_individual() for _ in range(POP_SIZE)]\n",
    "#best_fitness = -np.inf\n",
    "#best_individual = None\n",
    "\n",
    "#for gen in range(N_GEN):\n",
    "#    fitnesses = [fitness(ind) for ind in population]\n",
    "#    max_fit = max(fitnesses)\n",
    "#    print(f\"Gen {gen}, best fitness: {-max_fit:.4f}\")\n",
    "#    if max_fit > best_fitness:\n",
    "#        best_fitness = max_fit\n",
    "#        best_individual = population[np.argmax(fitnesses)]\n",
    "#    selected = select(population, fitnesses)\n",
    "#    new_pop = selected[:ELITE_SIZE]\n",
    "#    while len(new_pop) < POP_SIZE:\n",
    "#        p1, p2 = random.sample(selected, 2)\n",
    "#        child = crossover(p1, p2)\n",
    "#        if random.random() < MUTATION_RATE:\n",
    "#            child = mutate(child)\n",
    "#        new_pop.append(child)\n",
    "#    population = new_pop\n",
    "\n",
    "# Evaluate best individual\n",
    "#qc_best = build_circuit(best_individual)\n",
    "#print(qc_best.draw(output='text'))\n",
    "#state_best = Statevector.from_instruction(qc_best)\n",
    "#probs_best = np.abs(state_best.data) ** 2\n",
    "#kl_best = kl_divergence(p_target, probs_best)\n",
    "\n",
    "# Plot\n",
    "#labels = [f'{i:03b}' for i in range(len(p_target))]\n",
    "#x = np.arange(len(p_target))\n",
    "\n",
    "#plt.figure(figsize=(10, 5))\n",
    "#plt.bar(x - 0.15, p_target, width=0.3, label='Target', align='center')\n",
    "#plt.bar(x + 0.15, probs_best, width=0.3, label='Best Circuit', align='center')\n",
    "#plt.xticks(x, labels)\n",
    "#plt.xlabel('Basis State')\n",
    "#plt.ylabel('Probability')\n",
    "#plt.title(f'Final KL Divergence: {kl_best:.5f}')\n",
    "#plt.legend()\n",
    "#plt.tight_layout()\n",
    "#plt.show()\n",
    "\n",
    "#print(\"Best circuit:\\n\", qc_best.draw())\n"
   ]
  },
  {
   "cell_type": "code",
   "execution_count": null,
   "id": "f61b635a",
   "metadata": {},
   "outputs": [],
   "source": []
  }
 ],
 "metadata": {
  "kernelspec": {
   "display_name": "Python 3 (ipykernel)",
   "language": "python",
   "name": "python3"
  },
  "language_info": {
   "codemirror_mode": {
    "name": "ipython",
    "version": 3
   },
   "file_extension": ".py",
   "mimetype": "text/x-python",
   "name": "python",
   "nbconvert_exporter": "python",
   "pygments_lexer": "ipython3",
   "version": "3.13.3"
  }
 },
 "nbformat": 4,
 "nbformat_minor": 5
}
