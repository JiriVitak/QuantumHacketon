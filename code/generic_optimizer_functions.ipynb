{
 "cells": [
  {
   "cell_type": "markdown",
   "id": "d02b8747",
   "metadata": {},
   "source": [
    "Previous notebooks"
   ]
  },
  {
   "cell_type": "code",
   "execution_count": 9,
   "id": "86a07f10",
   "metadata": {},
   "outputs": [],
   "source": [
    "%run reference_circuit.ipynb"
   ]
  },
  {
   "cell_type": "markdown",
   "id": "2e4a1c69",
   "metadata": {},
   "source": [
    "Libraries"
   ]
  },
  {
   "cell_type": "code",
   "execution_count": 1,
   "id": "a9611794",
   "metadata": {},
   "outputs": [],
   "source": [
    "import numpy as np\n",
    "import random\n",
    "import matplotlib.pyplot as plt\n",
    "from qiskit import QuantumCircuit\n",
    "from qiskit.quantum_info import Statevector"
   ]
  },
  {
   "cell_type": "markdown",
   "id": "3f55d8c9",
   "metadata": {},
   "source": [
    "Configuration"
   ]
  },
  {
   "cell_type": "code",
   "execution_count": 3,
   "id": "b8f07289",
   "metadata": {},
   "outputs": [],
   "source": [
    "NUM_QUBITS = 3\n",
    "POP_SIZE = 10\n",
    "N_GEN = 50\n",
    "MUTATION_RATE = 0.5\n",
    "ELITE_SIZE = 2\n",
    "LAMBDA_DEPTH = 0.1\n",
    "\n",
    "# Target distribution\n",
    "x = np.arange(2**NUM_QUBITS)\n",
    "p_target = np.exp(-0.5 * ((x - 3.5) / 1.0)**2)\n",
    "p_target /= np.sum(p_target)\n",
    "psi_target = np.sqrt(p_target)"
   ]
  },
  {
   "cell_type": "markdown",
   "id": "5f7f0c46",
   "metadata": {},
   "source": [
    "Helper functions"
   ]
  },
  {
   "cell_type": "code",
   "execution_count": 26,
   "id": "8738d3cd",
   "metadata": {},
   "outputs": [],
   "source": [
    "def kl_divergence(p, q, eps=1e-10):\n",
    "    p = np.clip(p, eps, 1)\n",
    "    q = np.clip(q, eps, 1)\n",
    "    return np.sum(p * np.log(p / q))\n",
    "\n",
    "GATES = ['h', 'x', 'y', 'z', 'rx', 'ry', 'rz', 'cx', 'cz', 'sx']\n",
    "\n",
    "def random_gate():\n",
    "    g = random.choice(GATES)\n",
    "    if g in ['rx', 'ry', 'rz']:\n",
    "        return (g, random.randint(0, NUM_QUBITS - 1), random.uniform(0, 2*np.pi))\n",
    "    elif g == 'cx':\n",
    "        control = random.randint(0, NUM_QUBITS - 1)\n",
    "        target = (control + 1) % NUM_QUBITS\n",
    "        return (g, control, target)\n",
    "    else:\n",
    "        return (g, random.randint(0, NUM_QUBITS - 1))\n",
    "\n",
    "def build_circuit(gates):\n",
    "    qc = QuantumCircuit(NUM_QUBITS)\n",
    "    for gate in gates:\n",
    "        if gate[0] in ['rx', 'ry', 'rz']:\n",
    "            getattr(qc, gate[0])(gate[2], gate[1])\n",
    "        elif gate[0] == 'cx':\n",
    "            qc.cx(gate[1], gate[2])\n",
    "        else:\n",
    "            getattr(qc, gate[0])(gate[1])\n",
    "    return qc\n",
    "    #GHZ = np.array([1, 0, 0, 0, 0, 0, 0, 1]) / np.sqrt(2)\n",
    "    #GHZ_evolve_matrix = householder_unitary(GHZ)\n",
    "    #qc_ghz = create_reference_circuit(GHZ_evolve_matrix)\n",
    "\n",
    "    #return qc_ghz\n",
    "\n",
    "def fitness(ind):\n",
    "    qc = build_circuit(ind)\n",
    "    state = Statevector.from_instruction(qc)\n",
    "    probs = np.abs(state.data)**2\n",
    "    kl = kl_divergence(p_target, probs)\n",
    "    penalty = LAMBDA_DEPTH * qc.depth()\n",
    "    return -(kl + penalty)  # maximize negative loss\n",
    "\n",
    "# GA functions\n",
    "def mutate(ind):\n",
    "    ind = ind.copy()\n",
    "    if random.random() < 0.5 and len(ind) > 1:\n",
    "        ind[random.randint(0, len(ind)-1)] = random_gate()\n",
    "    else:\n",
    "        ind.append(random_gate())\n",
    "    return ind\n",
    "\n",
    "def crossover(p1, p2):\n",
    "    if len(p1) < 2 or len(p2) < 2:\n",
    "        return p1\n",
    "    point = random.randint(1, min(len(p1), len(p2)) - 1)\n",
    "    return p1[:point] + p2[point:]\n",
    "    \n",
    "def softmax(x, temperature=0.5): # higher temperature makes the distribution more flat (more uniform selection)\n",
    "    # recomended temperature [0.1, 0.8]\n",
    "    x = np.array(x)\n",
    "    x = x - np.max(x)  # For numerical stability\n",
    "    exps = np.exp(x / temperature)\n",
    "    return exps / np.sum(exps)\n",
    "\n",
    "def select(pop, fitnesses, temperature=0.5):\n",
    "    probs = softmax(fitnesses, temperature)\n",
    "    selected = random.choices(pop, weights=probs, k=POP_SIZE - ELITE_SIZE)\n",
    "    # Keep elites deterministically\n",
    "    elite_indices = np.argsort(fitnesses)[-ELITE_SIZE:]\n",
    "    elites = [pop[i] for i in elite_indices]\n",
    "    return elites + selected\n",
    "\n",
    "def random_individual(length=10):\n",
    "    return [random_gate() for _ in range(length)]"
   ]
  },
  {
   "cell_type": "markdown",
   "id": "ce08e69c",
   "metadata": {},
   "source": [
    "GA loop"
   ]
  },
  {
   "cell_type": "code",
   "execution_count": 29,
   "id": "de9c7699",
   "metadata": {},
   "outputs": [
    {
     "name": "stdout",
     "output_type": "stream",
     "text": [
      "[[('z', 1), ('cz', 0), ('y', 1), ('x', 0), ('z', 1), ('x', 2), ('cz', 1), ('ry', 1, 4.414576179208218), ('cx', 1, 2), ('rz', 2, 0.8611612488023543)], [('ry', 2, 0.08334990438132531), ('h', 0), ('rz', 2, 2.3314480074787416), ('z', 0), ('h', 2), ('cz', 0), ('cz', 0), ('z', 0), ('cz', 1), ('sx', 2)], [('x', 1), ('y', 2), ('sx', 0), ('cz', 2), ('cx', 2, 0), ('rz', 2, 1.9160843786457153), ('x', 0), ('h', 0), ('ry', 2, 2.7619440845148313), ('h', 0)], [('rz', 1, 1.8871151500089591), ('z', 1), ('rz', 0, 0.8320995995845127), ('sx', 0), ('y', 0), ('x', 1), ('h', 0), ('x', 1), ('h', 0), ('rx', 0, 6.120122513450943)], [('rx', 2, 6.082520645080442), ('cx', 2, 0), ('y', 0), ('h', 2), ('y', 1), ('rz', 0, 3.39639832881497), ('sx', 1), ('rx', 1, 0.22475577005323014), ('cz', 0), ('y', 1)], [('cz', 1), ('cx', 1, 2), ('rz', 0, 1.5715861088630074), ('sx', 1), ('x', 2), ('ry', 1, 2.4068068383753496), ('y', 0), ('cz', 1), ('ry', 0, 5.870579823310866), ('cx', 1, 2)], [('z', 2), ('cz', 1), ('y', 2), ('rx', 1, 4.0607800520188935), ('x', 0), ('y', 2), ('y', 2), ('cz', 2), ('cx', 2, 0), ('rx', 2, 2.7828021889797445)], [('ry', 0, 3.608057812197833), ('ry', 2, 1.660829764823993), ('cx', 1, 2), ('cx', 2, 0), ('rx', 2, 3.1283527395953934), ('rx', 2, 0.7757120916291008), ('sx', 2), ('rz', 1, 4.754779108319041), ('cz', 1), ('h', 1)], [('rx', 2, 2.675703501536444), ('cx', 0, 1), ('x', 2), ('h', 0), ('sx', 0), ('z', 2), ('h', 1), ('y', 2), ('cx', 1, 2), ('h', 1)], [('z', 2), ('x', 1), ('sx', 2), ('cx', 1, 2), ('x', 0), ('h', 1), ('rz', 0, 1.2415740556728034), ('h', 2), ('z', 0), ('h', 2)]]\n",
      "Circuit depth: 117\n",
      "[[('z', 1), ('cz', 0), ('y', 1), ('x', 0), ('z', 1), ('x', 2), ('cz', 1), ('ry', 1, 4.414576179208218), ('cx', 1, 2), ('rz', 2, 0.8611612488023543)], [('ry', 2, 0.08334990438132531), ('h', 0), ('rz', 2, 2.3314480074787416), ('z', 0), ('h', 2), ('cz', 0), ('cz', 0), ('z', 0), ('cz', 1), ('sx', 2)], [('x', 1), ('y', 2), ('sx', 0), ('cz', 2), ('cx', 2, 0), ('rz', 2, 1.9160843786457153), ('x', 0), ('h', 0), ('ry', 2, 2.7619440845148313), ('h', 0)], [('rz', 1, 1.8871151500089591), ('z', 1), ('rz', 0, 0.8320995995845127), ('sx', 0), ('y', 0), ('x', 1), ('h', 0), ('x', 1), ('h', 0), ('rx', 0, 6.120122513450943)], [('rx', 2, 6.082520645080442), ('cx', 2, 0), ('y', 0), ('h', 2), ('y', 1), ('rz', 0, 3.39639832881497), ('sx', 1), ('rx', 1, 0.22475577005323014), ('cz', 0), ('y', 1)], [('cz', 1), ('cx', 1, 2), ('rz', 0, 1.5715861088630074), ('sx', 1), ('x', 2), ('ry', 1, 2.4068068383753496), ('y', 0), ('cz', 1), ('ry', 0, 5.870579823310866), ('cx', 1, 2)], [('z', 2), ('cz', 1), ('y', 2), ('rx', 1, 4.0607800520188935), ('x', 0), ('y', 2), ('y', 2), ('cz', 2), ('cx', 2, 0), ('rx', 2, 2.7828021889797445)], [('ry', 0, 3.608057812197833), ('ry', 2, 1.660829764823993), ('cx', 1, 2), ('cx', 2, 0), ('rx', 2, 3.1283527395953934), ('rx', 2, 0.7757120916291008), ('sx', 2), ('rz', 1, 4.754779108319041), ('cz', 1), ('h', 1)], [('rx', 2, 2.675703501536444), ('cx', 0, 1), ('x', 2), ('h', 0), ('sx', 0), ('z', 2), ('h', 1), ('y', 2), ('cx', 1, 2), ('h', 1)], [('z', 2), ('x', 1), ('sx', 2), ('cx', 1, 2), ('x', 0), ('h', 1), ('rz', 0, 1.2415740556728034), ('h', 2), ('z', 0), ('h', 2)], ['rz', Qubit(QuantumRegister(156, 'q'), 88), None], ['sx', Qubit(QuantumRegister(156, 'q'), 88), None], ['rz', Qubit(QuantumRegister(156, 'q'), 88), None], ['rz', Qubit(QuantumRegister(156, 'q'), 89), None], ['sx', Qubit(QuantumRegister(156, 'q'), 89), None], ['rz', Qubit(QuantumRegister(156, 'q'), 89), None], ['cz', Qubit(QuantumRegister(156, 'q'), 88), Qubit(QuantumRegister(156, 'q'), 89)], ['sx', Qubit(QuantumRegister(156, 'q'), 88), None], ['rz', Qubit(QuantumRegister(156, 'q'), 88), None], ['sx', Qubit(QuantumRegister(156, 'q'), 88), None], ['sx', Qubit(QuantumRegister(156, 'q'), 89), None], ['rz', Qubit(QuantumRegister(156, 'q'), 89), None], ['cz', Qubit(QuantumRegister(156, 'q'), 88), Qubit(QuantumRegister(156, 'q'), 89)], ['rz', Qubit(QuantumRegister(156, 'q'), 88), None], ['sx', Qubit(QuantumRegister(156, 'q'), 88), None], ['rz', Qubit(QuantumRegister(156, 'q'), 88), None], ['sx', Qubit(QuantumRegister(156, 'q'), 89), None], ['rz', Qubit(QuantumRegister(156, 'q'), 89), None], ['sx', Qubit(QuantumRegister(156, 'q'), 89), None], ['sx', Qubit(QuantumRegister(156, 'q'), 90), None], ['rz', Qubit(QuantumRegister(156, 'q'), 90), None], ['cz', Qubit(QuantumRegister(156, 'q'), 89), Qubit(QuantumRegister(156, 'q'), 90)], ['rz', Qubit(QuantumRegister(156, 'q'), 89), None], ['sx', Qubit(QuantumRegister(156, 'q'), 89), None], ['rz', Qubit(QuantumRegister(156, 'q'), 89), None], ['sx', Qubit(QuantumRegister(156, 'q'), 90), None], ['rz', Qubit(QuantumRegister(156, 'q'), 90), None], ['cz', Qubit(QuantumRegister(156, 'q'), 89), Qubit(QuantumRegister(156, 'q'), 90)], ['sx', Qubit(QuantumRegister(156, 'q'), 89), None], ['rz', Qubit(QuantumRegister(156, 'q'), 89), None], ['sx', Qubit(QuantumRegister(156, 'q'), 89), None], ['cz', Qubit(QuantumRegister(156, 'q'), 88), Qubit(QuantumRegister(156, 'q'), 89)], ['sx', Qubit(QuantumRegister(156, 'q'), 89), None], ['rz', Qubit(QuantumRegister(156, 'q'), 89), None], ['sx', Qubit(QuantumRegister(156, 'q'), 89), None], ['rz', Qubit(QuantumRegister(156, 'q'), 89), None], ['sx', Qubit(QuantumRegister(156, 'q'), 90), None], ['rz', Qubit(QuantumRegister(156, 'q'), 90), None], ['cz', Qubit(QuantumRegister(156, 'q'), 90), Qubit(QuantumRegister(156, 'q'), 89)], ['x', Qubit(QuantumRegister(156, 'q'), 89), None], ['cz', Qubit(QuantumRegister(156, 'q'), 88), Qubit(QuantumRegister(156, 'q'), 89)], ['x', Qubit(QuantumRegister(156, 'q'), 88), None], ['rz', Qubit(QuantumRegister(156, 'q'), 88), None], ['rz', Qubit(QuantumRegister(156, 'q'), 89), None], ['sx', Qubit(QuantumRegister(156, 'q'), 89), None], ['rz', Qubit(QuantumRegister(156, 'q'), 89), None], ['sx', Qubit(QuantumRegister(156, 'q'), 90), None], ['cz', Qubit(QuantumRegister(156, 'q'), 90), Qubit(QuantumRegister(156, 'q'), 89)], ['sx', Qubit(QuantumRegister(156, 'q'), 89), None], ['sx', Qubit(QuantumRegister(156, 'q'), 90), None], ['cz', Qubit(QuantumRegister(156, 'q'), 90), Qubit(QuantumRegister(156, 'q'), 89)], ['sx', Qubit(QuantumRegister(156, 'q'), 89), None], ['sx', Qubit(QuantumRegister(156, 'q'), 90), None], ['cz', Qubit(QuantumRegister(156, 'q'), 90), Qubit(QuantumRegister(156, 'q'), 89)], ['rz', Qubit(QuantumRegister(156, 'q'), 89), None], ['sx', Qubit(QuantumRegister(156, 'q'), 89), None], ['rz', Qubit(QuantumRegister(156, 'q'), 89), None], ['sx', Qubit(QuantumRegister(156, 'q'), 89), None], ['rz', Qubit(QuantumRegister(156, 'q'), 89), None], ['cz', Qubit(QuantumRegister(156, 'q'), 88), Qubit(QuantumRegister(156, 'q'), 89)], ['x', Qubit(QuantumRegister(156, 'q'), 88), None], ['rz', Qubit(QuantumRegister(156, 'q'), 88), None], ['sx', Qubit(QuantumRegister(156, 'q'), 89), None], ['rz', Qubit(QuantumRegister(156, 'q'), 89), None], ['sx', Qubit(QuantumRegister(156, 'q'), 89), None], ['cz', Qubit(QuantumRegister(156, 'q'), 88), Qubit(QuantumRegister(156, 'q'), 89)], ['x', Qubit(QuantumRegister(156, 'q'), 88), None], ['rz', Qubit(QuantumRegister(156, 'q'), 88), None], ['rz', Qubit(QuantumRegister(156, 'q'), 89), None], ['sx', Qubit(QuantumRegister(156, 'q'), 89), None], ['rz', Qubit(QuantumRegister(156, 'q'), 89), None], ['sx', Qubit(QuantumRegister(156, 'q'), 89), None], ['rz', Qubit(QuantumRegister(156, 'q'), 89), None], ['rz', Qubit(QuantumRegister(156, 'q'), 90), None], ['sx', Qubit(QuantumRegister(156, 'q'), 90), None], ['rz', Qubit(QuantumRegister(156, 'q'), 90), None], ['sx', Qubit(QuantumRegister(156, 'q'), 90), None], ['cz', Qubit(QuantumRegister(156, 'q'), 89), Qubit(QuantumRegister(156, 'q'), 90)], ['sx', Qubit(QuantumRegister(156, 'q'), 89), None], ['rz', Qubit(QuantumRegister(156, 'q'), 89), None], ['sx', Qubit(QuantumRegister(156, 'q'), 90), None], ['cz', Qubit(QuantumRegister(156, 'q'), 89), Qubit(QuantumRegister(156, 'q'), 90)], ['sx', Qubit(QuantumRegister(156, 'q'), 89), None], ['rz', Qubit(QuantumRegister(156, 'q'), 89), None], ['sx', Qubit(QuantumRegister(156, 'q'), 89), None], ['rz', Qubit(QuantumRegister(156, 'q'), 89), None], ['cz', Qubit(QuantumRegister(156, 'q'), 88), Qubit(QuantumRegister(156, 'q'), 89)], ['sx', Qubit(QuantumRegister(156, 'q'), 89), None], ['rz', Qubit(QuantumRegister(156, 'q'), 89), None], ['sx', Qubit(QuantumRegister(156, 'q'), 89), None], ['rz', Qubit(QuantumRegister(156, 'q'), 89), None], ['sx', Qubit(QuantumRegister(156, 'q'), 90), None], ['rz', Qubit(QuantumRegister(156, 'q'), 90), None], ['sx', Qubit(QuantumRegister(156, 'q'), 90), None], ['cz', Qubit(QuantumRegister(156, 'q'), 89), Qubit(QuantumRegister(156, 'q'), 90)], ['sx', Qubit(QuantumRegister(156, 'q'), 89), None], ['rz', Qubit(QuantumRegister(156, 'q'), 89), None], ['sx', Qubit(QuantumRegister(156, 'q'), 90), None], ['rz', Qubit(QuantumRegister(156, 'q'), 90), None], ['cz', Qubit(QuantumRegister(156, 'q'), 89), Qubit(QuantumRegister(156, 'q'), 90)], ['sx', Qubit(QuantumRegister(156, 'q'), 89), None], ['rz', Qubit(QuantumRegister(156, 'q'), 89), None], ['sx', Qubit(QuantumRegister(156, 'q'), 89), None], ['rz', Qubit(QuantumRegister(156, 'q'), 89), None], ['cz', Qubit(QuantumRegister(156, 'q'), 88), Qubit(QuantumRegister(156, 'q'), 89)], ['x', Qubit(QuantumRegister(156, 'q'), 88), None], ['rz', Qubit(QuantumRegister(156, 'q'), 88), None], ['sx', Qubit(QuantumRegister(156, 'q'), 89), None], ['rz', Qubit(QuantumRegister(156, 'q'), 89), None], ['sx', Qubit(QuantumRegister(156, 'q'), 89), None], ['cz', Qubit(QuantumRegister(156, 'q'), 88), Qubit(QuantumRegister(156, 'q'), 89)], ['rz', Qubit(QuantumRegister(156, 'q'), 89), None], ['sx', Qubit(QuantumRegister(156, 'q'), 89), None], ['rz', Qubit(QuantumRegister(156, 'q'), 89), None], ['sx', Qubit(QuantumRegister(156, 'q'), 89), None], ['rz', Qubit(QuantumRegister(156, 'q'), 89), None], ['sx', Qubit(QuantumRegister(156, 'q'), 90), None], ['rz', Qubit(QuantumRegister(156, 'q'), 90), None], ['sx', Qubit(QuantumRegister(156, 'q'), 90), None], ['rz', Qubit(QuantumRegister(156, 'q'), 90), None], ['cz', Qubit(QuantumRegister(156, 'q'), 89), Qubit(QuantumRegister(156, 'q'), 90)], ['sx', Qubit(QuantumRegister(156, 'q'), 89), None], ['rz', Qubit(QuantumRegister(156, 'q'), 89), None], ['sx', Qubit(QuantumRegister(156, 'q'), 90), None], ['rz', Qubit(QuantumRegister(156, 'q'), 90), None], ['cz', Qubit(QuantumRegister(156, 'q'), 89), Qubit(QuantumRegister(156, 'q'), 90)], ['sx', Qubit(QuantumRegister(156, 'q'), 89), None], ['rz', Qubit(QuantumRegister(156, 'q'), 89), None], ['sx', Qubit(QuantumRegister(156, 'q'), 89), None], ['rz', Qubit(QuantumRegister(156, 'q'), 89), None], ['cz', Qubit(QuantumRegister(156, 'q'), 88), Qubit(QuantumRegister(156, 'q'), 89)], ['sx', Qubit(QuantumRegister(156, 'q'), 89), None], ['rz', Qubit(QuantumRegister(156, 'q'), 89), None], ['sx', Qubit(QuantumRegister(156, 'q'), 89), None], ['rz', Qubit(QuantumRegister(156, 'q'), 89), None], ['sx', Qubit(QuantumRegister(156, 'q'), 90), None], ['rz', Qubit(QuantumRegister(156, 'q'), 90), None], ['cz', Qubit(QuantumRegister(156, 'q'), 90), Qubit(QuantumRegister(156, 'q'), 89)], ['sx', Qubit(QuantumRegister(156, 'q'), 89), None], ['rz', Qubit(QuantumRegister(156, 'q'), 89), None], ['sx', Qubit(QuantumRegister(156, 'q'), 89), None], ['rz', Qubit(QuantumRegister(156, 'q'), 89), None], ['cz', Qubit(QuantumRegister(156, 'q'), 88), Qubit(QuantumRegister(156, 'q'), 89)], ['sx', Qubit(QuantumRegister(156, 'q'), 88), None], ['rz', Qubit(QuantumRegister(156, 'q'), 88), None], ['sx', Qubit(QuantumRegister(156, 'q'), 89), None], ['rz', Qubit(QuantumRegister(156, 'q'), 89), None], ['sx', Qubit(QuantumRegister(156, 'q'), 90), None], ['cz', Qubit(QuantumRegister(156, 'q'), 90), Qubit(QuantumRegister(156, 'q'), 89)], ['sx', Qubit(QuantumRegister(156, 'q'), 89), None], ['sx', Qubit(QuantumRegister(156, 'q'), 90), None], ['cz', Qubit(QuantumRegister(156, 'q'), 90), Qubit(QuantumRegister(156, 'q'), 89)], ['sx', Qubit(QuantumRegister(156, 'q'), 89), None], ['sx', Qubit(QuantumRegister(156, 'q'), 90), None], ['cz', Qubit(QuantumRegister(156, 'q'), 90), Qubit(QuantumRegister(156, 'q'), 89)], ['sx', Qubit(QuantumRegister(156, 'q'), 89), None], ['rz', Qubit(QuantumRegister(156, 'q'), 89), None], ['cz', Qubit(QuantumRegister(156, 'q'), 88), Qubit(QuantumRegister(156, 'q'), 89)], ['sx', Qubit(QuantumRegister(156, 'q'), 88), None], ['rz', Qubit(QuantumRegister(156, 'q'), 88), None], ['sx', Qubit(QuantumRegister(156, 'q'), 88), None], ['sx', Qubit(QuantumRegister(156, 'q'), 89), None], ['rz', Qubit(QuantumRegister(156, 'q'), 89), None], ['cz', Qubit(QuantumRegister(156, 'q'), 88), Qubit(QuantumRegister(156, 'q'), 89)], ['rz', Qubit(QuantumRegister(156, 'q'), 88), None], ['sx', Qubit(QuantumRegister(156, 'q'), 88), None], ['rz', Qubit(QuantumRegister(156, 'q'), 88), None], ['sx', Qubit(QuantumRegister(156, 'q'), 89), None], ['rz', Qubit(QuantumRegister(156, 'q'), 89), None]]\n"
     ]
    },
    {
     "name": "stderr",
     "output_type": "stream",
     "text": [
      "C:\\Users\\jiriv\\AppData\\Local\\Temp\\ipykernel_27632\\2823086221.py:14: DeprecationWarning: Treating CircuitInstruction as an iterable is deprecated legacy behavior since Qiskit 1.2, and will be removed in Qiskit 2.0. Instead, use the `operation`, `qubits` and `clbits` named attributes.\n",
      "  population.append([gate[0].name, gate[1][0], gate[1][1] if len(gate[1]) > 1 else None])\n"
     ]
    }
   ],
   "source": [
    "population = [random_individual() for _ in range(POP_SIZE)]\n",
    "print(population)\n",
    "#print(population)\n",
    "\n",
    "GHZ = np.array([1, 0, 0, 0, 0, 0, 0, 1]) / np.sqrt(2)\n",
    "GHZ_evolve_matrix = householder_unitary(GHZ)\n",
    "qc_ghz = create_reference_circuit(GHZ_evolve_matrix)\n",
    "\n",
    "#print(build_circuit(GATES))\n",
    "#print(qc_ghz)\n",
    "\n",
    "for gate in qc_ghz.data:\n",
    "    #print(gate)\n",
    "    population.append([gate[0].name, gate[1][0], gate[1][1] if len(gate[1]) > 1 else None])\n",
    "\n",
    "print(population)"
   ]
  },
  {
   "cell_type": "code",
   "execution_count": 28,
   "id": "30cee744",
   "metadata": {},
   "outputs": [
    {
     "ename": "TypeError",
     "evalue": "QuantumCircuit.cz() missing 1 required positional argument: 'target_qubit'",
     "output_type": "error",
     "traceback": [
      "\u001b[31m---------------------------------------------------------------------------\u001b[39m",
      "\u001b[31mTypeError\u001b[39m                                 Traceback (most recent call last)",
      "\u001b[36mCell\u001b[39m\u001b[36m \u001b[39m\u001b[32mIn[28]\u001b[39m\u001b[32m, line 6\u001b[39m\n\u001b[32m      3\u001b[39m best_individual = \u001b[38;5;28;01mNone\u001b[39;00m\n\u001b[32m      5\u001b[39m \u001b[38;5;28;01mfor\u001b[39;00m gen \u001b[38;5;129;01min\u001b[39;00m \u001b[38;5;28mrange\u001b[39m(N_GEN):\n\u001b[32m----> \u001b[39m\u001b[32m6\u001b[39m     fitnesses = \u001b[43m[\u001b[49m\u001b[43mfitness\u001b[49m\u001b[43m(\u001b[49m\u001b[43mind\u001b[49m\u001b[43m)\u001b[49m\u001b[43m \u001b[49m\u001b[38;5;28;43;01mfor\u001b[39;49;00m\u001b[43m \u001b[49m\u001b[43mind\u001b[49m\u001b[43m \u001b[49m\u001b[38;5;129;43;01min\u001b[39;49;00m\u001b[43m \u001b[49m\u001b[43mpopulation\u001b[49m\u001b[43m]\u001b[49m\n\u001b[32m      7\u001b[39m     max_fit = \u001b[38;5;28mmax\u001b[39m(fitnesses)\n\u001b[32m      8\u001b[39m     \u001b[38;5;28mprint\u001b[39m(\u001b[33mf\u001b[39m\u001b[33m\"\u001b[39m\u001b[33mGen \u001b[39m\u001b[38;5;132;01m{\u001b[39;00mgen\u001b[38;5;132;01m}\u001b[39;00m\u001b[33m, best fitness: \u001b[39m\u001b[38;5;132;01m{\u001b[39;00m-max_fit\u001b[38;5;132;01m:\u001b[39;00m\u001b[33m.4f\u001b[39m\u001b[38;5;132;01m}\u001b[39;00m\u001b[33m\"\u001b[39m)\n",
      "\u001b[36mCell\u001b[39m\u001b[36m \u001b[39m\u001b[32mIn[28]\u001b[39m\u001b[32m, line 6\u001b[39m, in \u001b[36m<listcomp>\u001b[39m\u001b[34m(.0)\u001b[39m\n\u001b[32m      3\u001b[39m best_individual = \u001b[38;5;28;01mNone\u001b[39;00m\n\u001b[32m      5\u001b[39m \u001b[38;5;28;01mfor\u001b[39;00m gen \u001b[38;5;129;01min\u001b[39;00m \u001b[38;5;28mrange\u001b[39m(N_GEN):\n\u001b[32m----> \u001b[39m\u001b[32m6\u001b[39m     fitnesses = [\u001b[43mfitness\u001b[49m\u001b[43m(\u001b[49m\u001b[43mind\u001b[49m\u001b[43m)\u001b[49m \u001b[38;5;28;01mfor\u001b[39;00m ind \u001b[38;5;129;01min\u001b[39;00m population]\n\u001b[32m      7\u001b[39m     max_fit = \u001b[38;5;28mmax\u001b[39m(fitnesses)\n\u001b[32m      8\u001b[39m     \u001b[38;5;28mprint\u001b[39m(\u001b[33mf\u001b[39m\u001b[33m\"\u001b[39m\u001b[33mGen \u001b[39m\u001b[38;5;132;01m{\u001b[39;00mgen\u001b[38;5;132;01m}\u001b[39;00m\u001b[33m, best fitness: \u001b[39m\u001b[38;5;132;01m{\u001b[39;00m-max_fit\u001b[38;5;132;01m:\u001b[39;00m\u001b[33m.4f\u001b[39m\u001b[38;5;132;01m}\u001b[39;00m\u001b[33m\"\u001b[39m)\n",
      "\u001b[36mCell\u001b[39m\u001b[36m \u001b[39m\u001b[32mIn[26]\u001b[39m\u001b[32m, line 36\u001b[39m, in \u001b[36mfitness\u001b[39m\u001b[34m(ind)\u001b[39m\n\u001b[32m     35\u001b[39m \u001b[38;5;28;01mdef\u001b[39;00m\u001b[38;5;250m \u001b[39m\u001b[34mfitness\u001b[39m(ind):\n\u001b[32m---> \u001b[39m\u001b[32m36\u001b[39m     qc = \u001b[43mbuild_circuit\u001b[49m\u001b[43m(\u001b[49m\u001b[43mind\u001b[49m\u001b[43m)\u001b[49m\n\u001b[32m     37\u001b[39m     state = Statevector.from_instruction(qc)\n\u001b[32m     38\u001b[39m     probs = np.abs(state.data)**\u001b[32m2\u001b[39m\n",
      "\u001b[36mCell\u001b[39m\u001b[36m \u001b[39m\u001b[32mIn[26]\u001b[39m\u001b[32m, line 27\u001b[39m, in \u001b[36mbuild_circuit\u001b[39m\u001b[34m(gates)\u001b[39m\n\u001b[32m     25\u001b[39m         qc.cx(gate[\u001b[32m1\u001b[39m], gate[\u001b[32m2\u001b[39m])\n\u001b[32m     26\u001b[39m     \u001b[38;5;28;01melse\u001b[39;00m:\n\u001b[32m---> \u001b[39m\u001b[32m27\u001b[39m         \u001b[38;5;28;43mgetattr\u001b[39;49m\u001b[43m(\u001b[49m\u001b[43mqc\u001b[49m\u001b[43m,\u001b[49m\u001b[43m \u001b[49m\u001b[43mgate\u001b[49m\u001b[43m[\u001b[49m\u001b[32;43m0\u001b[39;49m\u001b[43m]\u001b[49m\u001b[43m)\u001b[49m\u001b[43m(\u001b[49m\u001b[43mgate\u001b[49m\u001b[43m[\u001b[49m\u001b[32;43m1\u001b[39;49m\u001b[43m]\u001b[49m\u001b[43m)\u001b[49m\n\u001b[32m     28\u001b[39m \u001b[38;5;28;01mreturn\u001b[39;00m qc\n",
      "\u001b[31mTypeError\u001b[39m: QuantumCircuit.cz() missing 1 required positional argument: 'target_qubit'"
     ]
    }
   ],
   "source": [
    "#population = [random_individual() for _ in range(POP_SIZE)]\n",
    "best_fitness = -np.inf\n",
    "best_individual = None\n",
    "\n",
    "for gen in range(N_GEN):\n",
    "    fitnesses = [fitness(ind) for ind in population]\n",
    "    max_fit = max(fitnesses)\n",
    "    print(f\"Gen {gen}, best fitness: {-max_fit:.4f}\")\n",
    "    if max_fit > best_fitness:\n",
    "        best_fitness = max_fit\n",
    "        best_individual = population[np.argmax(fitnesses)]\n",
    "    selected = select(population, fitnesses)\n",
    "    new_pop = selected[:ELITE_SIZE]\n",
    "    while len(new_pop) < POP_SIZE:\n",
    "        p1, p2 = random.sample(selected, 2)\n",
    "        child = crossover(p1, p2)\n",
    "        if random.random() < MUTATION_RATE:\n",
    "            child = mutate(child)\n",
    "        new_pop.append(child)\n",
    "    population = new_pop\n",
    "\n",
    "# Evaluate best individual\n",
    "qc_best = build_circuit(best_individual)\n",
    "print(qc_best.draw(output='text'))\n",
    "state_best = Statevector.from_instruction(qc_best)\n",
    "probs_best = np.abs(state_best.data) ** 2\n",
    "kl_best = kl_divergence(p_target, probs_best)\n",
    "\n",
    "# Plot\n",
    "labels = [f'{i:03b}' for i in range(len(p_target))]\n",
    "x = np.arange(len(p_target))\n",
    "\n",
    "plt.figure(figsize=(10, 5))\n",
    "plt.bar(x - 0.15, p_target, width=0.3, label='Target', align='center')\n",
    "plt.bar(x + 0.15, probs_best, width=0.3, label='Best Circuit', align='center')\n",
    "plt.xticks(x, labels)\n",
    "plt.xlabel('Basis State')\n",
    "plt.ylabel('Probability')\n",
    "plt.title(f'Final KL Divergence: {kl_best:.5f}')\n",
    "plt.legend()\n",
    "plt.tight_layout()\n",
    "plt.show()\n",
    "\n",
    "print(\"Best circuit:\\n\", qc_best.draw())\n"
   ]
  },
  {
   "cell_type": "code",
   "execution_count": null,
   "id": "f61b635a",
   "metadata": {},
   "outputs": [],
   "source": []
  }
 ],
 "metadata": {
  "kernelspec": {
   "display_name": "test_venv",
   "language": "python",
   "name": "python3"
  },
  "language_info": {
   "codemirror_mode": {
    "name": "ipython",
    "version": 3
   },
   "file_extension": ".py",
   "mimetype": "text/x-python",
   "name": "python",
   "nbconvert_exporter": "python",
   "pygments_lexer": "ipython3",
   "version": "3.11.6"
  }
 },
 "nbformat": 4,
 "nbformat_minor": 5
}
