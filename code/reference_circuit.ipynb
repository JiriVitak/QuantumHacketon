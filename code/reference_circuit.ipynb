{
 "cells": [
  {
   "cell_type": "markdown",
   "id": "2641e432",
   "metadata": {},
   "source": [
    "Previous notebooks"
   ]
  },
  {
   "cell_type": "code",
   "execution_count": 3,
   "id": "2b89378e",
   "metadata": {},
   "outputs": [],
   "source": [
    "%run IBM_runtime_setup.ipynb"
   ]
  },
  {
   "cell_type": "markdown",
   "id": "b2b8be2c",
   "metadata": {},
   "source": [
    "Libraries"
   ]
  },
  {
   "cell_type": "code",
   "execution_count": 13,
   "id": "5fa69607",
   "metadata": {},
   "outputs": [],
   "source": [
    "import qiskit\n",
    "import numpy as np\n",
    "from qiskit.quantum_info import Statevector\n",
    "from qiskit import QuantumCircuit\n",
    "from qiskit.circuit.library import UnitaryGate\n",
    "from qiskit_aer import AerSimulator"
   ]
  },
  {
   "cell_type": "markdown",
   "id": "4ebedb6a",
   "metadata": {},
   "source": [
    "Evolution matrix creation"
   ]
  },
  {
   "cell_type": "code",
   "execution_count": null,
   "id": "73010e22",
   "metadata": {},
   "outputs": [],
   "source": [
    "def householder_unitary(psi: np.ndarray) -> np.ndarray:\n",
    "    \"\"\"\n",
    "    Construct a real unitary matrix U such that U @ |0> = psi.\n",
    "\n",
    "    Parameters:\n",
    "        psi (np.ndarray): Real normalized state vector.\n",
    "\n",
    "    Returns:\n",
    "        U (np.ndarray): Real unitary matrix.\n",
    "    \"\"\"\n",
    "    psi = psi.astype(np.float64)\n",
    "    psi = psi / np.linalg.norm(psi)\n",
    "\n",
    "    dim = len(psi)\n",
    "    e1 = np.zeros(dim)\n",
    "    e1[0] = 1.0\n",
    "\n",
    "    v = psi - e1\n",
    "    v = v / np.linalg.norm(v)\n",
    "\n",
    "    U = np.eye(dim) - 2.0 * np.outer(v, v)\n",
    "    return U\n",
    "\n",
    "def print_matrix(U: np.ndarray, precision: int = 4):\n",
    "    \"\"\"\n",
    "    Pretty-print a matrix with fixed precision.\n",
    "\n",
    "    Parameters:\n",
    "        U (np.ndarray): Matrix to print.\n",
    "        precision (int): Decimal digits.\n",
    "    \"\"\"\n",
    "    np.set_printoptions(precision=precision, suppress=True)\n",
    "    print(U)\n",
    "\n",
    "# Example probability distribution (must sum to 1)\n",
    "p = np.array([1, 0, 0, 0, 0, 0, 0, 1]) / np.sqrt(2)\n",
    "p /= np.sum(p)\n",
    "\n",
    "# Target quantum state\n",
    "psi = np.sqrt(p)\n",
    "\n",
    "# Generate unitary matrix\n",
    "U = householder_unitary(psi)\n",
    "\n",
    "# Print the result\n",
    "print_matrix(U)"
   ]
  },
  {
   "cell_type": "markdown",
   "id": "9e4edd69",
   "metadata": {},
   "source": [
    "Reference circuit creation\n",
    "\n",
    "- create circuit using qiskit function: UnitaryGate - not optimal, but good enough as a starting point"
   ]
  },
  {
   "cell_type": "code",
   "execution_count": 18,
   "id": "03933593",
   "metadata": {},
   "outputs": [],
   "source": [
    "def create_reference_circuit(matrix):\n",
    "    # get the number of qubits from the matrix size\n",
    "    num_qubits = int(np.log2(len(matrix)))\n",
    "\n",
    "    # put matrix into a UnitaryGate\n",
    "    gate = UnitaryGate(matrix)\n",
    "\n",
    "    # create circuit\n",
    "    qc = QuantumCircuit(num_qubits)\n",
    "    qc.append(gate, qc.qubits)\n",
    "\n",
    "    compiled_qc = pm.run(qc)\n",
    "    circuit_depth = compiled_qc.depth()\n",
    "    print(f\"Circuit depth: {circuit_depth}\")\n",
    "\n",
    "    return compiled_qc\n",
    "\n",
    "def reference_circuit_on_simulator(matrix):\n",
    "    num_qubits = int(np.log2(len(matrix)))\n",
    "\n",
    "    # put matrix into a UnitaryGate\n",
    "    gate = UnitaryGate(matrix)\n",
    "\n",
    "    # create circuit\n",
    "    qc = QuantumCircuit(num_qubits)\n",
    "    qc.append(gate, qc.qubits)\n",
    "    qc.measure_all()\n",
    "\n",
    "    print(qc)\n",
    "    shots = 1000\n",
    "    simulator = AerSimulator(method='statevector')\n",
    "    job = simulator.run(qc, shots=shots)\n",
    "    result = job.result()\n",
    "    counts = result.get_counts()\n",
    "    print(f\"Counts: {counts}\")\n",
    "    return counts"
   ]
  },
  {
   "cell_type": "markdown",
   "id": "acad4f51",
   "metadata": {},
   "source": [
    "Test"
   ]
  },
  {
   "cell_type": "code",
   "execution_count": 20,
   "id": "b8a2bae3",
   "metadata": {},
   "outputs": [],
   "source": [
    "#GHZ = np.array([1, 0, 0, 0, 0, 0, 0, 1]) / np.sqrt(2)\n",
    "#GHZ_evolve_matrix = householder_unitary(GHZ)\n",
    "#qc_ghz = create_reference_circuit(GHZ_evolve_matrix)\n",
    "#print(qc_ghz)\n",
    "#qc_ghz.decompose().draw('mpl', scale=0.1)\n",
    "\n",
    "#qc_ghz_sim = reference_circuit_on_simulator(GHZ_evolve_matrix)"
   ]
  },
  {
   "cell_type": "code",
   "execution_count": null,
   "id": "277802f5",
   "metadata": {},
   "outputs": [],
   "source": []
  }
 ],
 "metadata": {
  "kernelspec": {
   "display_name": "QPRGA",
   "language": "python",
   "name": "python3"
  },
  "language_info": {
   "codemirror_mode": {
    "name": "ipython",
    "version": 3
   },
   "file_extension": ".py",
   "mimetype": "text/x-python",
   "name": "python",
   "nbconvert_exporter": "python",
   "pygments_lexer": "ipython3",
   "version": "3.11.6"
  }
 },
 "nbformat": 4,
 "nbformat_minor": 5
}
